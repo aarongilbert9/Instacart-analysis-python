{
 "cells": [
  {
   "cell_type": "code",
   "execution_count": 1,
   "id": "1e5b5322-7e9a-40fe-80b5-3050e1c722c9",
   "metadata": {},
   "outputs": [],
   "source": [
    "# import libraries\n",
    "import pandas as pd\n",
    "import numpy as np\n",
    "import os"
   ]
  },
  {
   "cell_type": "code",
   "execution_count": 2,
   "id": "c32ab4ef-bcaf-4975-8d12-70057644856b",
   "metadata": {},
   "outputs": [
    {
     "ename": "FileNotFoundError",
     "evalue": "[Errno 2] No such file or directory: 'OneDrive/Documents/Instacart basket Analysis 12-2024/02 Data/original/orders.csv'",
     "output_type": "error",
     "traceback": [
      "\u001b[1;31m---------------------------------------------------------------------------\u001b[0m",
      "\u001b[1;31mFileNotFoundError\u001b[0m                         Traceback (most recent call last)",
      "Cell \u001b[1;32mIn[2], line 1\u001b[0m\n\u001b[1;32m----> 1\u001b[0m df_ords \u001b[38;5;241m=\u001b[39m pd\u001b[38;5;241m.\u001b[39mread_csv(\u001b[38;5;124mr\u001b[39m\u001b[38;5;124m'\u001b[39m\u001b[38;5;124mOneDrive/Documents/Instacart basket Analysis 12-2024/02 Data/original/orders.csv\u001b[39m\u001b[38;5;124m'\u001b[39m, index_col \u001b[38;5;241m=\u001b[39m \u001b[38;5;28;01mFalse\u001b[39;00m)\n",
      "File \u001b[1;32m~\\anaconda3\\Lib\\site-packages\\pandas\\io\\parsers\\readers.py:1026\u001b[0m, in \u001b[0;36mread_csv\u001b[1;34m(filepath_or_buffer, sep, delimiter, header, names, index_col, usecols, dtype, engine, converters, true_values, false_values, skipinitialspace, skiprows, skipfooter, nrows, na_values, keep_default_na, na_filter, verbose, skip_blank_lines, parse_dates, infer_datetime_format, keep_date_col, date_parser, date_format, dayfirst, cache_dates, iterator, chunksize, compression, thousands, decimal, lineterminator, quotechar, quoting, doublequote, escapechar, comment, encoding, encoding_errors, dialect, on_bad_lines, delim_whitespace, low_memory, memory_map, float_precision, storage_options, dtype_backend)\u001b[0m\n\u001b[0;32m   1013\u001b[0m kwds_defaults \u001b[38;5;241m=\u001b[39m _refine_defaults_read(\n\u001b[0;32m   1014\u001b[0m     dialect,\n\u001b[0;32m   1015\u001b[0m     delimiter,\n\u001b[1;32m   (...)\u001b[0m\n\u001b[0;32m   1022\u001b[0m     dtype_backend\u001b[38;5;241m=\u001b[39mdtype_backend,\n\u001b[0;32m   1023\u001b[0m )\n\u001b[0;32m   1024\u001b[0m kwds\u001b[38;5;241m.\u001b[39mupdate(kwds_defaults)\n\u001b[1;32m-> 1026\u001b[0m \u001b[38;5;28;01mreturn\u001b[39;00m _read(filepath_or_buffer, kwds)\n",
      "File \u001b[1;32m~\\anaconda3\\Lib\\site-packages\\pandas\\io\\parsers\\readers.py:620\u001b[0m, in \u001b[0;36m_read\u001b[1;34m(filepath_or_buffer, kwds)\u001b[0m\n\u001b[0;32m    617\u001b[0m _validate_names(kwds\u001b[38;5;241m.\u001b[39mget(\u001b[38;5;124m\"\u001b[39m\u001b[38;5;124mnames\u001b[39m\u001b[38;5;124m\"\u001b[39m, \u001b[38;5;28;01mNone\u001b[39;00m))\n\u001b[0;32m    619\u001b[0m \u001b[38;5;66;03m# Create the parser.\u001b[39;00m\n\u001b[1;32m--> 620\u001b[0m parser \u001b[38;5;241m=\u001b[39m TextFileReader(filepath_or_buffer, \u001b[38;5;241m*\u001b[39m\u001b[38;5;241m*\u001b[39mkwds)\n\u001b[0;32m    622\u001b[0m \u001b[38;5;28;01mif\u001b[39;00m chunksize \u001b[38;5;129;01mor\u001b[39;00m iterator:\n\u001b[0;32m    623\u001b[0m     \u001b[38;5;28;01mreturn\u001b[39;00m parser\n",
      "File \u001b[1;32m~\\anaconda3\\Lib\\site-packages\\pandas\\io\\parsers\\readers.py:1620\u001b[0m, in \u001b[0;36mTextFileReader.__init__\u001b[1;34m(self, f, engine, **kwds)\u001b[0m\n\u001b[0;32m   1617\u001b[0m     \u001b[38;5;28mself\u001b[39m\u001b[38;5;241m.\u001b[39moptions[\u001b[38;5;124m\"\u001b[39m\u001b[38;5;124mhas_index_names\u001b[39m\u001b[38;5;124m\"\u001b[39m] \u001b[38;5;241m=\u001b[39m kwds[\u001b[38;5;124m\"\u001b[39m\u001b[38;5;124mhas_index_names\u001b[39m\u001b[38;5;124m\"\u001b[39m]\n\u001b[0;32m   1619\u001b[0m \u001b[38;5;28mself\u001b[39m\u001b[38;5;241m.\u001b[39mhandles: IOHandles \u001b[38;5;241m|\u001b[39m \u001b[38;5;28;01mNone\u001b[39;00m \u001b[38;5;241m=\u001b[39m \u001b[38;5;28;01mNone\u001b[39;00m\n\u001b[1;32m-> 1620\u001b[0m \u001b[38;5;28mself\u001b[39m\u001b[38;5;241m.\u001b[39m_engine \u001b[38;5;241m=\u001b[39m \u001b[38;5;28mself\u001b[39m\u001b[38;5;241m.\u001b[39m_make_engine(f, \u001b[38;5;28mself\u001b[39m\u001b[38;5;241m.\u001b[39mengine)\n",
      "File \u001b[1;32m~\\anaconda3\\Lib\\site-packages\\pandas\\io\\parsers\\readers.py:1880\u001b[0m, in \u001b[0;36mTextFileReader._make_engine\u001b[1;34m(self, f, engine)\u001b[0m\n\u001b[0;32m   1878\u001b[0m     \u001b[38;5;28;01mif\u001b[39;00m \u001b[38;5;124m\"\u001b[39m\u001b[38;5;124mb\u001b[39m\u001b[38;5;124m\"\u001b[39m \u001b[38;5;129;01mnot\u001b[39;00m \u001b[38;5;129;01min\u001b[39;00m mode:\n\u001b[0;32m   1879\u001b[0m         mode \u001b[38;5;241m+\u001b[39m\u001b[38;5;241m=\u001b[39m \u001b[38;5;124m\"\u001b[39m\u001b[38;5;124mb\u001b[39m\u001b[38;5;124m\"\u001b[39m\n\u001b[1;32m-> 1880\u001b[0m \u001b[38;5;28mself\u001b[39m\u001b[38;5;241m.\u001b[39mhandles \u001b[38;5;241m=\u001b[39m get_handle(\n\u001b[0;32m   1881\u001b[0m     f,\n\u001b[0;32m   1882\u001b[0m     mode,\n\u001b[0;32m   1883\u001b[0m     encoding\u001b[38;5;241m=\u001b[39m\u001b[38;5;28mself\u001b[39m\u001b[38;5;241m.\u001b[39moptions\u001b[38;5;241m.\u001b[39mget(\u001b[38;5;124m\"\u001b[39m\u001b[38;5;124mencoding\u001b[39m\u001b[38;5;124m\"\u001b[39m, \u001b[38;5;28;01mNone\u001b[39;00m),\n\u001b[0;32m   1884\u001b[0m     compression\u001b[38;5;241m=\u001b[39m\u001b[38;5;28mself\u001b[39m\u001b[38;5;241m.\u001b[39moptions\u001b[38;5;241m.\u001b[39mget(\u001b[38;5;124m\"\u001b[39m\u001b[38;5;124mcompression\u001b[39m\u001b[38;5;124m\"\u001b[39m, \u001b[38;5;28;01mNone\u001b[39;00m),\n\u001b[0;32m   1885\u001b[0m     memory_map\u001b[38;5;241m=\u001b[39m\u001b[38;5;28mself\u001b[39m\u001b[38;5;241m.\u001b[39moptions\u001b[38;5;241m.\u001b[39mget(\u001b[38;5;124m\"\u001b[39m\u001b[38;5;124mmemory_map\u001b[39m\u001b[38;5;124m\"\u001b[39m, \u001b[38;5;28;01mFalse\u001b[39;00m),\n\u001b[0;32m   1886\u001b[0m     is_text\u001b[38;5;241m=\u001b[39mis_text,\n\u001b[0;32m   1887\u001b[0m     errors\u001b[38;5;241m=\u001b[39m\u001b[38;5;28mself\u001b[39m\u001b[38;5;241m.\u001b[39moptions\u001b[38;5;241m.\u001b[39mget(\u001b[38;5;124m\"\u001b[39m\u001b[38;5;124mencoding_errors\u001b[39m\u001b[38;5;124m\"\u001b[39m, \u001b[38;5;124m\"\u001b[39m\u001b[38;5;124mstrict\u001b[39m\u001b[38;5;124m\"\u001b[39m),\n\u001b[0;32m   1888\u001b[0m     storage_options\u001b[38;5;241m=\u001b[39m\u001b[38;5;28mself\u001b[39m\u001b[38;5;241m.\u001b[39moptions\u001b[38;5;241m.\u001b[39mget(\u001b[38;5;124m\"\u001b[39m\u001b[38;5;124mstorage_options\u001b[39m\u001b[38;5;124m\"\u001b[39m, \u001b[38;5;28;01mNone\u001b[39;00m),\n\u001b[0;32m   1889\u001b[0m )\n\u001b[0;32m   1890\u001b[0m \u001b[38;5;28;01massert\u001b[39;00m \u001b[38;5;28mself\u001b[39m\u001b[38;5;241m.\u001b[39mhandles \u001b[38;5;129;01mis\u001b[39;00m \u001b[38;5;129;01mnot\u001b[39;00m \u001b[38;5;28;01mNone\u001b[39;00m\n\u001b[0;32m   1891\u001b[0m f \u001b[38;5;241m=\u001b[39m \u001b[38;5;28mself\u001b[39m\u001b[38;5;241m.\u001b[39mhandles\u001b[38;5;241m.\u001b[39mhandle\n",
      "File \u001b[1;32m~\\anaconda3\\Lib\\site-packages\\pandas\\io\\common.py:873\u001b[0m, in \u001b[0;36mget_handle\u001b[1;34m(path_or_buf, mode, encoding, compression, memory_map, is_text, errors, storage_options)\u001b[0m\n\u001b[0;32m    868\u001b[0m \u001b[38;5;28;01melif\u001b[39;00m \u001b[38;5;28misinstance\u001b[39m(handle, \u001b[38;5;28mstr\u001b[39m):\n\u001b[0;32m    869\u001b[0m     \u001b[38;5;66;03m# Check whether the filename is to be opened in binary mode.\u001b[39;00m\n\u001b[0;32m    870\u001b[0m     \u001b[38;5;66;03m# Binary mode does not support 'encoding' and 'newline'.\u001b[39;00m\n\u001b[0;32m    871\u001b[0m     \u001b[38;5;28;01mif\u001b[39;00m ioargs\u001b[38;5;241m.\u001b[39mencoding \u001b[38;5;129;01mand\u001b[39;00m \u001b[38;5;124m\"\u001b[39m\u001b[38;5;124mb\u001b[39m\u001b[38;5;124m\"\u001b[39m \u001b[38;5;129;01mnot\u001b[39;00m \u001b[38;5;129;01min\u001b[39;00m ioargs\u001b[38;5;241m.\u001b[39mmode:\n\u001b[0;32m    872\u001b[0m         \u001b[38;5;66;03m# Encoding\u001b[39;00m\n\u001b[1;32m--> 873\u001b[0m         handle \u001b[38;5;241m=\u001b[39m \u001b[38;5;28mopen\u001b[39m(\n\u001b[0;32m    874\u001b[0m             handle,\n\u001b[0;32m    875\u001b[0m             ioargs\u001b[38;5;241m.\u001b[39mmode,\n\u001b[0;32m    876\u001b[0m             encoding\u001b[38;5;241m=\u001b[39mioargs\u001b[38;5;241m.\u001b[39mencoding,\n\u001b[0;32m    877\u001b[0m             errors\u001b[38;5;241m=\u001b[39merrors,\n\u001b[0;32m    878\u001b[0m             newline\u001b[38;5;241m=\u001b[39m\u001b[38;5;124m\"\u001b[39m\u001b[38;5;124m\"\u001b[39m,\n\u001b[0;32m    879\u001b[0m         )\n\u001b[0;32m    880\u001b[0m     \u001b[38;5;28;01melse\u001b[39;00m:\n\u001b[0;32m    881\u001b[0m         \u001b[38;5;66;03m# Binary mode\u001b[39;00m\n\u001b[0;32m    882\u001b[0m         handle \u001b[38;5;241m=\u001b[39m \u001b[38;5;28mopen\u001b[39m(handle, ioargs\u001b[38;5;241m.\u001b[39mmode)\n",
      "\u001b[1;31mFileNotFoundError\u001b[0m: [Errno 2] No such file or directory: 'OneDrive/Documents/Instacart basket Analysis 12-2024/02 Data/original/orders.csv'"
     ]
    }
   ],
   "source": [
    "df_ords = pd.read_csv(r'OneDrive/Documents/Instacart basket Analysis 12-2024/02 Data/original/orders.csv', index_col = False)"
   ]
  },
  {
   "cell_type": "code",
   "execution_count": null,
   "id": "0e87b98f-95e6-48ef-9a00-5052e9bbd7f4",
   "metadata": {},
   "outputs": [],
   "source": [
    "df_prods = pd.read_csv(r'OneDrive/Documents/Instacart basket Analysis 12-2024/02 Data/original/products.csv', index_col = False)"
   ]
  },
  {
   "cell_type": "code",
   "execution_count": null,
   "id": "84de3a0d-ef53-49f9-ad61-87cde571bd00",
   "metadata": {},
   "outputs": [],
   "source": [
    "path = r'OneDrive/Documents/Instacart basket Analysis 12-2024'"
   ]
  },
  {
   "cell_type": "code",
   "execution_count": null,
   "id": "c338da0f-b234-43f4-8b1d-dde02475d93a",
   "metadata": {},
   "outputs": [],
   "source": [
    "path"
   ]
  },
  {
   "cell_type": "code",
   "execution_count": null,
   "id": "16fc04d4-9430-4a83-801d-ac7d7be986b5",
   "metadata": {},
   "outputs": [],
   "source": [
    "# dropping eval_set column from orders.csv\n",
    "df_ords.drop(columns = ['eval_set'])"
   ]
  },
  {
   "cell_type": "code",
   "execution_count": null,
   "id": "0dbaff20-0c3f-4077-a957-f8b09a7bf274",
   "metadata": {},
   "outputs": [],
   "source": [
    "df_ords['days_since_prior_order'].value_counts(dropna = False)"
   ]
  },
  {
   "cell_type": "code",
   "execution_count": null,
   "id": "c616c685-9d0f-4d7e-a7a9-de7581584108",
   "metadata": {},
   "outputs": [],
   "source": [
    "df_ords['order_id'] = df_ords['order_id'].astype('str')"
   ]
  },
  {
   "cell_type": "code",
   "execution_count": null,
   "id": "0de17ebb-e374-4d71-81c8-4562a5e77fcd",
   "metadata": {},
   "outputs": [],
   "source": [
    "# importing data set departments.csv\n",
    "df_dep = pd.read_csv(os.path.join(path, '02 Data', 'Original', 'departments.csv'), index_col = False)"
   ]
  },
  {
   "cell_type": "code",
   "execution_count": null,
   "id": "8346ad27-65c6-4c8d-89b9-8e0bd1225d0a",
   "metadata": {},
   "outputs": [],
   "source": [
    "df_dep.head()"
   ]
  },
  {
   "cell_type": "code",
   "execution_count": null,
   "id": "3d77bc20-d27b-429c-ba41-1a715a3745ef",
   "metadata": {},
   "outputs": [],
   "source": [
    "# transposing df_dep\n",
    "df_dep.T"
   ]
  },
  {
   "cell_type": "code",
   "execution_count": null,
   "id": "932c33fe-06da-443c-a6b6-67968e511835",
   "metadata": {},
   "outputs": [],
   "source": [
    "df_dep_t = df_dep.T"
   ]
  },
  {
   "cell_type": "code",
   "execution_count": null,
   "id": "5b73f755-f020-4998-ae42-624c5211a2e1",
   "metadata": {},
   "outputs": [],
   "source": [
    "df_dep_t.reset_index()"
   ]
  },
  {
   "cell_type": "code",
   "execution_count": null,
   "id": "c3270f1b-1fc9-4518-aded-2b3d66c40e73",
   "metadata": {},
   "outputs": [],
   "source": [
    "# take the first row of the df_dep_t for the header\n",
    "new_header = df_dep_t.iloc[0]"
   ]
  },
  {
   "cell_type": "code",
   "execution_count": null,
   "id": "de0b45a9-b20b-4c54-b201-ee6cd1dc1f67",
   "metadata": {},
   "outputs": [],
   "source": [
    "new_header"
   ]
  },
  {
   "cell_type": "code",
   "execution_count": null,
   "id": "dbe37b73-e03c-4c19-b398-fe6107da123a",
   "metadata": {},
   "outputs": [],
   "source": [
    "df_dep_t_new = df_dep_t[1:]"
   ]
  },
  {
   "cell_type": "code",
   "execution_count": null,
   "id": "b3ae8017-a2e7-42b0-b3fb-91d0e0769168",
   "metadata": {},
   "outputs": [],
   "source": [
    "df_dep_t.reset_index()"
   ]
  },
  {
   "cell_type": "code",
   "execution_count": null,
   "id": "91725627-a549-406f-ac06-fbefd5888004",
   "metadata": {},
   "outputs": [],
   "source": [
    "df_dep_t_new"
   ]
  },
  {
   "cell_type": "code",
   "execution_count": null,
   "id": "ff8a1662-8645-4ea2-8323-1b9404433abb",
   "metadata": {},
   "outputs": [],
   "source": [
    "# set the heade row as the df header\n",
    "df_dep_t_new.columns = new_header"
   ]
  },
  {
   "cell_type": "code",
   "execution_count": null,
   "id": "cc1edbb8-d62e-4e31-a180-7559c696c01e",
   "metadata": {},
   "outputs": [],
   "source": [
    "df_dep_t_new"
   ]
  },
  {
   "cell_type": "code",
   "execution_count": null,
   "id": "3c11aa0e-6ed7-4b6c-a06a-ca934449149b",
   "metadata": {},
   "outputs": [],
   "source": [
    "data_dict = df_dep_t_new.to_dict('index')"
   ]
  },
  {
   "cell_type": "code",
   "execution_count": null,
   "id": "332b78f2-f732-4ec1-a82f-5c375ae7913d",
   "metadata": {},
   "outputs": [],
   "source": [
    "data_dict"
   ]
  },
  {
   "cell_type": "code",
   "execution_count": null,
   "id": "e25e967a-cb3e-40eb-bbf3-ce1781ada801",
   "metadata": {},
   "outputs": [],
   "source": [
    "df_prods.head()"
   ]
  },
  {
   "cell_type": "code",
   "execution_count": null,
   "id": "472bc916-5ee9-4b7b-be45-b3b866d3a296",
   "metadata": {},
   "outputs": [],
   "source": [
    "print(data_dict.get('19'))"
   ]
  },
  {
   "cell_type": "code",
   "execution_count": null,
   "id": "ffe87f8b-17cb-4611-b801-2fb492d9e608",
   "metadata": {},
   "outputs": [],
   "source": [
    "df_prods[df_prods['department_id']==19]"
   ]
  },
  {
   "cell_type": "code",
   "execution_count": null,
   "id": "267d647b-034d-4cbb-99a6-ec0e67fbcaf6",
   "metadata": {},
   "outputs": [],
   "source": [
    "df_snack = df_prods[df_prods['department_id']==19]"
   ]
  },
  {
   "cell_type": "code",
   "execution_count": null,
   "id": "d878d5f3-a103-43f9-b6cd-84555b09ad36",
   "metadata": {},
   "outputs": [],
   "source": [
    "df_snack.head()"
   ]
  },
  {
   "cell_type": "markdown",
   "id": "bc1830a2-3889-4d51-8bb7-3e22cc1697ad",
   "metadata": {},
   "source": [
    "# Exercise procedure"
   ]
  },
  {
   "cell_type": "code",
   "execution_count": null,
   "id": "495ce0b4-2518-4ecc-9ed9-6ab4c118fa00",
   "metadata": {},
   "outputs": [],
   "source": []
  },
  {
   "cell_type": "code",
   "execution_count": null,
   "id": "140b11cc-c65d-4115-9da6-bd51dc3e5d5b",
   "metadata": {},
   "outputs": [],
   "source": [
    "df_ords.head()"
   ]
  },
  {
   "cell_type": "code",
   "execution_count": null,
   "id": "6218af07-f388-422d-b4f1-b7ae780f81d5",
   "metadata": {},
   "outputs": [],
   "source": [
    "# changing user_id from numeric to a string for analysis purposes"
   ]
  },
  {
   "cell_type": "code",
   "execution_count": null,
   "id": "b0acf99f-2863-44d5-b978-0082cf6dbe4c",
   "metadata": {},
   "outputs": [],
   "source": [
    "df_ords['orders_id'] = df_ords['user_id'].astype('str')"
   ]
  },
  {
   "cell_type": "code",
   "execution_count": null,
   "id": "56cf10fe-8f0a-4328-a72b-7a811976c034",
   "metadata": {},
   "outputs": [],
   "source": [
    "# changing order_number to order_count \n",
    "df_ords.rename(columns = {'order_number' : 'order_count'}, inplace = True)"
   ]
  },
  {
   "cell_type": "code",
   "execution_count": null,
   "id": "dcfe21de-eafc-4af4-92c9-1cd9caccab83",
   "metadata": {},
   "outputs": [],
   "source": [
    "df_ords.head()"
   ]
  },
  {
   "cell_type": "code",
   "execution_count": null,
   "id": "1373d663-8f17-494c-8d80-cd6fd9f54364",
   "metadata": {},
   "outputs": [],
   "source": [
    "# Data insight for customer\n",
    "## busiest hour to place an order\n",
    "df_ords.value_counts('order_hour_of_day')"
   ]
  },
  {
   "cell_type": "markdown",
   "id": "5e4d13c4-7dd8-4965-9273-5106d807ba69",
   "metadata": {},
   "source": [
    "# 10am is the busiest time of day for customers to place orders"
   ]
  },
  {
   "cell_type": "code",
   "execution_count": null,
   "id": "e54f5b07-7e5a-43b6-9320-5ecc9ad88be5",
   "metadata": {},
   "outputs": [],
   "source": [
    "# determine the value of 4 in the department_id through a data dictionary within the df_prods df\n",
    "data_dict = df_dep_t_new.to_dict('index')"
   ]
  },
  {
   "cell_type": "code",
   "execution_count": null,
   "id": "5821068f-6a8f-41e4-a5b3-d58113987679",
   "metadata": {},
   "outputs": [],
   "source": [
    "data_dict"
   ]
  },
  {
   "cell_type": "markdown",
   "id": "411250b1-9ce7-4163-ae55-bfdef3c36b3f",
   "metadata": {},
   "source": [
    "# 4 reprsentes the produce department section "
   ]
  },
  {
   "cell_type": "code",
   "execution_count": null,
   "id": "74ff0b5a-9f80-4524-93b3-61aefd0d0195",
   "metadata": {},
   "outputs": [],
   "source": [
    "# breakfast item sales\n",
    "## create a subset\n",
    "df_bkfast = df_prods[df_prods['department_id'] == 14]"
   ]
  },
  {
   "cell_type": "code",
   "execution_count": null,
   "id": "2e8f948e-9673-4a61-8af8-b88f71a088db",
   "metadata": {},
   "outputs": [],
   "source": [
    "df_bkfast.head()"
   ]
  },
  {
   "cell_type": "markdown",
   "id": "a1944236-26d3-4fb3-9d45-c392c075755c",
   "metadata": {},
   "source": [
    "# dinner party insight"
   ]
  },
  {
   "cell_type": "code",
   "execution_count": null,
   "id": "1617ed76-54f1-4942-8d03-d92770c00fcd",
   "metadata": {},
   "outputs": [],
   "source": [
    "# create a subset for the following department:\n",
    "## alcohol, deli, beverages, and meat/seafood\n",
    "df_dinner_party = df_prods.loc[df_prods['department_id'].isin([5,7,12,20])]"
   ]
  },
  {
   "cell_type": "code",
   "execution_count": null,
   "id": "0dc421c2-934c-4a82-8f29-ced8cbf87532",
   "metadata": {},
   "outputs": [],
   "source": [
    "df_dinner_party.head()"
   ]
  },
  {
   "cell_type": "code",
   "execution_count": null,
   "id": "f399bb8a-c64b-444a-bf50-d075e83bed6b",
   "metadata": {},
   "outputs": [],
   "source": [
    "# number of rows in df_dinner_party\n",
    "df_dinner_party.shape"
   ]
  },
  {
   "cell_type": "markdown",
   "id": "b6a25f9f-897f-402a-a5e6-f771d472ea0f",
   "metadata": {},
   "source": [
    "# there are 7650 rows for the dinner party df"
   ]
  },
  {
   "cell_type": "code",
   "execution_count": null,
   "id": "f466bfa4-638d-4814-ba20-743d8ce6bb49",
   "metadata": {},
   "outputs": [],
   "source": [
    "# provide basic details on user_id 1\n",
    "df_user1 = df_ords.loc[df_ords['user_id'] == 1]"
   ]
  },
  {
   "cell_type": "code",
   "execution_count": null,
   "id": "f61b79db-0d2f-4738-a7a4-2683e8ca2ce2",
   "metadata": {},
   "outputs": [],
   "source": [
    "df_user1"
   ]
  },
  {
   "cell_type": "code",
   "execution_count": null,
   "id": "fea83252-e16f-4cee-b0d4-2075647a5853",
   "metadata": {},
   "outputs": [],
   "source": [
    "# details about user 1 behavior\n",
    "df_user1.describe()"
   ]
  },
  {
   "cell_type": "code",
   "execution_count": null,
   "id": "f39d7bcc-3b5c-477c-a95b-7fa59c50bc94",
   "metadata": {},
   "outputs": [],
   "source": [
    "# user 1 places orders bewteen sunday and wednesday usually around 10 am on average, places an order on everage every 19 days"
   ]
  },
  {
   "cell_type": "markdown",
   "id": "75ef5a70-06bc-4f09-8d9c-bd9326674365",
   "metadata": {},
   "source": [
    "# exporting data frames"
   ]
  },
  {
   "cell_type": "code",
   "execution_count": null,
   "id": "fe1bcad4-012c-449d-819a-daaee37c656d",
   "metadata": {},
   "outputs": [],
   "source": [
    "#exporting orders data frame\n",
    "df_ords.to_csv(os.path.join(path, '02 Data', 'prepared data', 'orders_wrangled_task4_4.csv'))"
   ]
  },
  {
   "cell_type": "code",
   "execution_count": null,
   "id": "39e1ae55-9a65-4766-9ecd-eee235c38965",
   "metadata": {},
   "outputs": [],
   "source": [
    "#exporting departments data frame\n",
    "df_dep_t_new.to_csv(os.path.join(path, '02 Data', 'prepared data', 'departments_wrangled_task4_4.csv'))"
   ]
  },
  {
   "cell_type": "code",
   "execution_count": null,
   "id": "4a20a139-094e-4fed-8683-c4c8184aefe0",
   "metadata": {},
   "outputs": [],
   "source": []
  }
 ],
 "metadata": {
  "kernelspec": {
   "display_name": "Python 3 (ipykernel)",
   "language": "python",
   "name": "python3"
  },
  "language_info": {
   "codemirror_mode": {
    "name": "ipython",
    "version": 3
   },
   "file_extension": ".py",
   "mimetype": "text/x-python",
   "name": "python",
   "nbconvert_exporter": "python",
   "pygments_lexer": "ipython3",
   "version": "3.12.7"
  }
 },
 "nbformat": 4,
 "nbformat_minor": 5
}
