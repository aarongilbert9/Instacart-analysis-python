{
 "cells": [
  {
   "cell_type": "markdown",
   "id": "0650f664-6d2a-4f9f-b33b-d08f2b703ab3",
   "metadata": {},
   "source": [
    "#import libraries "
   ]
  },
  {
   "cell_type": "code",
   "execution_count": 66,
   "id": "976be85f-cd36-4531-81c8-90b54c0b6418",
   "metadata": {},
   "outputs": [],
   "source": [
    "import pandas as pd\n",
    "import numpy as np\n",
    "import os"
   ]
  },
  {
   "cell_type": "markdown",
   "id": "52a05fa7-a8d2-4391-a208-53def9d52972",
   "metadata": {},
   "source": [
    "code 3 different ways of reaching a result of 100 by adding or subtracting numeric variables"
   ]
  },
  {
   "cell_type": "code",
   "execution_count": 48,
   "id": "8204558b-b7a8-4b0b-b5ec-8f1775d79ffb",
   "metadata": {},
   "outputs": [
    {
     "data": {
      "text/plain": [
       "100"
      ]
     },
     "execution_count": 48,
     "metadata": {},
     "output_type": "execute_result"
    }
   ],
   "source": [
    "x + 80  \n",
    "#adding variables"
   ]
  },
  {
   "cell_type": "code",
   "execution_count": 43,
   "id": "14db8377-49c4-49e2-9312-e8b57c5576c5",
   "metadata": {},
   "outputs": [],
   "source": [
    "x = 20\n",
    "y = 5"
   ]
  },
  {
   "cell_type": "code",
   "execution_count": 50,
   "id": "a9dfa664-e627-4034-9307-3066843a96ca",
   "metadata": {},
   "outputs": [
    {
     "data": {
      "text/plain": [
       "100"
      ]
     },
     "execution_count": 50,
     "metadata": {},
     "output_type": "execute_result"
    }
   ],
   "source": [
    "x + 85 - y \n",
    "#adding variables"
   ]
  },
  {
   "cell_type": "code",
   "execution_count": 51,
   "id": "74f64994-0534-4c12-8a0f-9fe5c66a7459",
   "metadata": {},
   "outputs": [
    {
     "data": {
      "text/plain": [
       "100"
      ]
     },
     "execution_count": 51,
     "metadata": {},
     "output_type": "execute_result"
    }
   ],
   "source": [
    "x + x + x + x + x \n",
    "#adding variables"
   ]
  },
  {
   "cell_type": "markdown",
   "id": "f36a9e98-1bff-4c25-a08f-62540312e018",
   "metadata": {},
   "source": [
    "code 2 floating-point variablkes and divie them by wach other"
   ]
  },
  {
   "cell_type": "code",
   "execution_count": 52,
   "id": "95fdf143-479b-4449-b925-1ea026448612",
   "metadata": {},
   "outputs": [],
   "source": [
    "x = 5.25\n",
    "y = 3.3"
   ]
  },
  {
   "cell_type": "code",
   "execution_count": 53,
   "id": "c4bcc669-127b-48d6-97e7-9bd9070c1450",
   "metadata": {},
   "outputs": [
    {
     "data": {
      "text/plain": [
       "1.590909090909091"
      ]
     },
     "execution_count": 53,
     "metadata": {},
     "output_type": "execute_result"
    }
   ],
   "source": [
    "x / y \n",
    "#dividing variables"
   ]
  },
  {
   "cell_type": "code",
   "execution_count": 54,
   "id": "24f3568b-3c6c-497f-a173-91e5c6ad0dc6",
   "metadata": {},
   "outputs": [
    {
     "data": {
      "text/plain": [
       "0.6285714285714286"
      ]
     },
     "execution_count": 54,
     "metadata": {},
     "output_type": "execute_result"
    }
   ],
   "source": [
    "y / x \n",
    "#dividing variables"
   ]
  },
  {
   "cell_type": "markdown",
   "id": "cc003336-1698-48c0-997b-87b024523df1",
   "metadata": {},
   "source": [
    "construct a short word made of seperate strings "
   ]
  },
  {
   "cell_type": "code",
   "execution_count": 56,
   "id": "a5dc756b-b60f-4c9d-a450-73ff3d4acf52",
   "metadata": {},
   "outputs": [],
   "source": [
    "x = 'Happy '\n",
    "y = 'new year'"
   ]
  },
  {
   "cell_type": "code",
   "execution_count": 57,
   "id": "3038d4ac-f352-4b62-a043-da26bcc5c70c",
   "metadata": {},
   "outputs": [
    {
     "data": {
      "text/plain": [
       "'Happy new year'"
      ]
     },
     "execution_count": 57,
     "metadata": {},
     "output_type": "execute_result"
    }
   ],
   "source": [
    "x + y \n",
    "#making strings"
   ]
  },
  {
   "cell_type": "markdown",
   "id": "46e93065-f07d-49b0-afce-18887bd90620",
   "metadata": {},
   "source": [
    "construct 2 shirt senetences made of seperate strings"
   ]
  },
  {
   "cell_type": "code",
   "execution_count": 60,
   "id": "a9f60231-76ab-4366-bf0f-0aed3cf0d209",
   "metadata": {},
   "outputs": [],
   "source": [
    "x = 'I want to be '\n",
    "y = 'good at '\n",
    "z = 'python'"
   ]
  },
  {
   "cell_type": "code",
   "execution_count": 61,
   "id": "4127b67d-d3b5-44b5-ad0f-dd74a7956204",
   "metadata": {},
   "outputs": [
    {
     "data": {
      "text/plain": [
       "'I want to be good at python'"
      ]
     },
     "execution_count": 61,
     "metadata": {},
     "output_type": "execute_result"
    }
   ],
   "source": [
    "x + y + z \n",
    "#making strings"
   ]
  },
  {
   "cell_type": "code",
   "execution_count": 63,
   "id": "1782ee7f-6994-494e-992b-c072a8f10de9",
   "metadata": {},
   "outputs": [],
   "source": [
    "x = 'be '\n",
    "y = 'kind '\n",
    "z = 'to everyone'"
   ]
  },
  {
   "cell_type": "code",
   "execution_count": 64,
   "id": "3caf2c43-3ddc-409c-b2a9-1aa5c801ad16",
   "metadata": {},
   "outputs": [
    {
     "data": {
      "text/plain": [
       "'be kind to everyone'"
      ]
     },
     "execution_count": 64,
     "metadata": {},
     "output_type": "execute_result"
    }
   ],
   "source": [
    "x + y + z \n",
    "#construct two seperate strings"
   ]
  },
  {
   "cell_type": "code",
   "execution_count": null,
   "id": "45ac788d-7e7d-4385-b4ec-51a5fcecee98",
   "metadata": {},
   "outputs": [],
   "source": []
  }
 ],
 "metadata": {
  "kernelspec": {
   "display_name": "Python 3 (ipykernel)",
   "language": "python",
   "name": "python3"
  },
  "language_info": {
   "codemirror_mode": {
    "name": "ipython",
    "version": 3
   },
   "file_extension": ".py",
   "mimetype": "text/x-python",
   "name": "python",
   "nbconvert_exporter": "python",
   "pygments_lexer": "ipython3",
   "version": "3.12.7"
  }
 },
 "nbformat": 4,
 "nbformat_minor": 5
}
