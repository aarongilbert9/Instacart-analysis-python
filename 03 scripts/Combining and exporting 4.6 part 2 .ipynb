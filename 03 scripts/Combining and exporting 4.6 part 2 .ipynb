{
 "cells": [
  {
   "cell_type": "code",
   "execution_count": 1,
   "id": "b80bacfa-4471-45b8-8727-0344182af448",
   "metadata": {},
   "outputs": [],
   "source": [
    "import pandas as pd\n",
    "import numpy as np\n",
    "import os"
   ]
  },
  {
   "cell_type": "code",
   "execution_count": 6,
   "id": "0c1a86ca-d500-4032-9070-bb6cc3ba30d6",
   "metadata": {},
   "outputs": [],
   "source": [
    "path = r'OneDrive/Desktop/Instacart basket Analysis 12-2024'"
   ]
  },
  {
   "cell_type": "code",
   "execution_count": 7,
   "id": "509b0499-b8ac-4def-9e86-f0b18b5357e8",
   "metadata": {},
   "outputs": [
    {
     "ename": "FileNotFoundError",
     "evalue": "[Errno 2] No such file or directory: 'OneDrive/Desktop/Instacart basket Analysis 12-2024\\\\02 Data\\\\Prepared data\\\\orders_products_combined.pkl'",
     "output_type": "error",
     "traceback": [
      "\u001b[1;31m---------------------------------------------------------------------------\u001b[0m",
      "\u001b[1;31mFileNotFoundError\u001b[0m                         Traceback (most recent call last)",
      "Cell \u001b[1;32mIn[7], line 1\u001b[0m\n\u001b[1;32m----> 1\u001b[0m ords_prods_merged \u001b[38;5;241m=\u001b[39m pd\u001b[38;5;241m.\u001b[39mread_pickle(os\u001b[38;5;241m.\u001b[39mpath\u001b[38;5;241m.\u001b[39mjoin(path, \u001b[38;5;124m'\u001b[39m\u001b[38;5;124m02 Data\u001b[39m\u001b[38;5;124m'\u001b[39m, \u001b[38;5;124m'\u001b[39m\u001b[38;5;124mPrepared data\u001b[39m\u001b[38;5;124m'\u001b[39m, \u001b[38;5;124m'\u001b[39m\u001b[38;5;124morders_products_combined.pkl\u001b[39m\u001b[38;5;124m'\u001b[39m))\n",
      "File \u001b[1;32m~\\anaconda3\\Lib\\site-packages\\pandas\\io\\pickle.py:185\u001b[0m, in \u001b[0;36mread_pickle\u001b[1;34m(filepath_or_buffer, compression, storage_options)\u001b[0m\n\u001b[0;32m    123\u001b[0m \u001b[38;5;250m\u001b[39m\u001b[38;5;124;03m\"\"\"\u001b[39;00m\n\u001b[0;32m    124\u001b[0m \u001b[38;5;124;03mLoad pickled pandas object (or any object) from file.\u001b[39;00m\n\u001b[0;32m    125\u001b[0m \n\u001b[1;32m   (...)\u001b[0m\n\u001b[0;32m    182\u001b[0m \u001b[38;5;124;03m4    4    9\u001b[39;00m\n\u001b[0;32m    183\u001b[0m \u001b[38;5;124;03m\"\"\"\u001b[39;00m\n\u001b[0;32m    184\u001b[0m excs_to_catch \u001b[38;5;241m=\u001b[39m (\u001b[38;5;167;01mAttributeError\u001b[39;00m, \u001b[38;5;167;01mImportError\u001b[39;00m, \u001b[38;5;167;01mModuleNotFoundError\u001b[39;00m, \u001b[38;5;167;01mTypeError\u001b[39;00m)\n\u001b[1;32m--> 185\u001b[0m \u001b[38;5;28;01mwith\u001b[39;00m get_handle(\n\u001b[0;32m    186\u001b[0m     filepath_or_buffer,\n\u001b[0;32m    187\u001b[0m     \u001b[38;5;124m\"\u001b[39m\u001b[38;5;124mrb\u001b[39m\u001b[38;5;124m\"\u001b[39m,\n\u001b[0;32m    188\u001b[0m     compression\u001b[38;5;241m=\u001b[39mcompression,\n\u001b[0;32m    189\u001b[0m     is_text\u001b[38;5;241m=\u001b[39m\u001b[38;5;28;01mFalse\u001b[39;00m,\n\u001b[0;32m    190\u001b[0m     storage_options\u001b[38;5;241m=\u001b[39mstorage_options,\n\u001b[0;32m    191\u001b[0m ) \u001b[38;5;28;01mas\u001b[39;00m handles:\n\u001b[0;32m    192\u001b[0m     \u001b[38;5;66;03m# 1) try standard library Pickle\u001b[39;00m\n\u001b[0;32m    193\u001b[0m     \u001b[38;5;66;03m# 2) try pickle_compat (older pandas version) to handle subclass changes\u001b[39;00m\n\u001b[0;32m    194\u001b[0m     \u001b[38;5;66;03m# 3) try pickle_compat with latin-1 encoding upon a UnicodeDecodeError\u001b[39;00m\n\u001b[0;32m    196\u001b[0m     \u001b[38;5;28;01mtry\u001b[39;00m:\n\u001b[0;32m    197\u001b[0m         \u001b[38;5;66;03m# TypeError for Cython complaints about object.__new__ vs Tick.__new__\u001b[39;00m\n\u001b[0;32m    198\u001b[0m         \u001b[38;5;28;01mtry\u001b[39;00m:\n",
      "File \u001b[1;32m~\\anaconda3\\Lib\\site-packages\\pandas\\io\\common.py:882\u001b[0m, in \u001b[0;36mget_handle\u001b[1;34m(path_or_buf, mode, encoding, compression, memory_map, is_text, errors, storage_options)\u001b[0m\n\u001b[0;32m    873\u001b[0m         handle \u001b[38;5;241m=\u001b[39m \u001b[38;5;28mopen\u001b[39m(\n\u001b[0;32m    874\u001b[0m             handle,\n\u001b[0;32m    875\u001b[0m             ioargs\u001b[38;5;241m.\u001b[39mmode,\n\u001b[1;32m   (...)\u001b[0m\n\u001b[0;32m    878\u001b[0m             newline\u001b[38;5;241m=\u001b[39m\u001b[38;5;124m\"\u001b[39m\u001b[38;5;124m\"\u001b[39m,\n\u001b[0;32m    879\u001b[0m         )\n\u001b[0;32m    880\u001b[0m     \u001b[38;5;28;01melse\u001b[39;00m:\n\u001b[0;32m    881\u001b[0m         \u001b[38;5;66;03m# Binary mode\u001b[39;00m\n\u001b[1;32m--> 882\u001b[0m         handle \u001b[38;5;241m=\u001b[39m \u001b[38;5;28mopen\u001b[39m(handle, ioargs\u001b[38;5;241m.\u001b[39mmode)\n\u001b[0;32m    883\u001b[0m     handles\u001b[38;5;241m.\u001b[39mappend(handle)\n\u001b[0;32m    885\u001b[0m \u001b[38;5;66;03m# Convert BytesIO or file objects passed with an encoding\u001b[39;00m\n",
      "\u001b[1;31mFileNotFoundError\u001b[0m: [Errno 2] No such file or directory: 'OneDrive/Desktop/Instacart basket Analysis 12-2024\\\\02 Data\\\\Prepared data\\\\orders_products_combined.pkl'"
     ]
    }
   ],
   "source": [
    "ords_prods_merged = pd.read_pickle(os.path.join(path, '02 Data', 'Prepared data', 'orders_products_combined.pkl'))"
   ]
  },
  {
   "cell_type": "code",
   "execution_count": null,
   "id": "333c0f1a-b7e4-411e-8883-fa2460049e15",
   "metadata": {},
   "outputs": [],
   "source": [
    "ords_prods_merged.head()"
   ]
  },
  {
   "cell_type": "code",
   "execution_count": null,
   "id": "f8ce404b-fda8-44ea-aa9d-c5bfbbe79c1a",
   "metadata": {},
   "outputs": [],
   "source": [
    "df_prods = pd.read_csv(os.path.join(path, '02 Data', 'Prepared data', 'products_checked.csv'), index_col = False) "
   ]
  },
  {
   "cell_type": "code",
   "execution_count": null,
   "id": "37fbc7dc-cb3b-4fd9-9fe4-95bccd7aecc6",
   "metadata": {},
   "outputs": [],
   "source": [
    "df_prods.head()"
   ]
  },
  {
   "cell_type": "code",
   "execution_count": null,
   "id": "e068ac8c-4efe-4373-b48e-4bd9349d05f1",
   "metadata": {},
   "outputs": [],
   "source": [
    "df_prods.shape"
   ]
  },
  {
   "cell_type": "code",
   "execution_count": null,
   "id": "5583ec09-d268-46b2-bd5c-f1fbc9d75973",
   "metadata": {},
   "outputs": [],
   "source": [
    "ords_prods_merged.shape"
   ]
  },
  {
   "cell_type": "code",
   "execution_count": null,
   "id": "c444d641-0b6a-4477-a6a5-33f578279bb2",
   "metadata": {},
   "outputs": [],
   "source": [
    "df_prods.info()"
   ]
  },
  {
   "cell_type": "code",
   "execution_count": null,
   "id": "dbe1f964-953d-43c9-b311-daee2a64fd70",
   "metadata": {},
   "outputs": [],
   "source": [
    "ords_prods_merged.info()"
   ]
  },
  {
   "cell_type": "code",
   "execution_count": null,
   "id": "52e29d4d-5eed-46fc-962d-94c931c60b0a",
   "metadata": {},
   "outputs": [],
   "source": [
    "# Further columns from other data sets\n",
    "\n",
    "df_prods['aisle_id'] = df_prods['aisle_id'].astype('int8')\n",
    "df_prods['department_id'] = df_prods['department_id'].astype('int8')\n",
    "df_prods['prices'] = df_prods['prices'].astype('float16')"
   ]
  },
  {
   "cell_type": "code",
   "execution_count": null,
   "id": "710a03f8-dc52-48cc-8315-90a6e1bd2cb2",
   "metadata": {},
   "outputs": [],
   "source": [
    "df_prods.info()"
   ]
  },
  {
   "cell_type": "code",
   "execution_count": null,
   "id": "b83c41fa-381c-43e0-8570-8c7e09e00707",
   "metadata": {},
   "outputs": [],
   "source": [
    "# Change types for ords prods data set \n",
    "\n",
    "ords_prods_merged['product_id'] =ords_prods_merged['product_id'].astype('int32')\n",
    "ords_prods_merged['reordered']=ords_prods_merged['reordered'].astype('int8')\n",
    "ords_prods_merged['add_to_cart_order']=ords_prods_merged['add_to_cart_order'].astype('int32')\n",
    "ords_prods_merged['order_id']=ords_prods_merged['order_id'].astype('int32')\n",
    "ords_prods_merged['user_id'] = ords_prods_merged['user_id'].astype('int32')\n",
    "ords_prods_merged['order_count']=ords_prods_merged['order_count'].astype('int8')\n",
    "ords_prods_merged['order_dow']=ords_prods_merged['order_dow'].astype('int8')\n",
    "ords_prods_merged['order_hour_of_day']=ords_prods_merged['order_hour_of_day'].astype('int8')\n",
    "ords_prods_merged['days_since_prior_order']=ords_prods_merged['days_since_prior_order'].astype('float16')"
   ]
  },
  {
   "cell_type": "code",
   "execution_count": null,
   "id": "77d5b4fe-568e-4d69-8f3d-99ae0e3ddebb",
   "metadata": {},
   "outputs": [],
   "source": [
    "ords_prods_merged.info()"
   ]
  },
  {
   "cell_type": "code",
   "execution_count": null,
   "id": "315ba85b-1a11-469e-9a53-2d71e82ee2c4",
   "metadata": {},
   "outputs": [],
   "source": [
    "ords_prods_merged = ords_prods_merged.merge(df_prods, on = ['product_id'], how = 'inner', indicator = False)"
   ]
  },
  {
   "cell_type": "code",
   "execution_count": null,
   "id": "c7bc9b7a-7ed9-4a31-9946-34a91a5b4037",
   "metadata": {},
   "outputs": [],
   "source": [
    "ords_prods_merged.head()"
   ]
  },
  {
   "cell_type": "code",
   "execution_count": null,
   "id": "d8639ce9-7636-44e4-bd25-f645721b444e",
   "metadata": {},
   "outputs": [],
   "source": [
    "ords_prods_merged.shape"
   ]
  },
  {
   "cell_type": "code",
   "execution_count": null,
   "id": "7a0614d9-f0fd-488a-b604-dfac2df6d728",
   "metadata": {},
   "outputs": [],
   "source": [
    "ords_prods_merged.info()"
   ]
  },
  {
   "cell_type": "code",
   "execution_count": null,
   "id": "68938fd4-8873-4c7d-8e46-c3a3dbc14d02",
   "metadata": {},
   "outputs": [],
   "source": [
    "# exporting data as a pickle\n",
    "ords_prods_merged.to_pickle(os.path.join(path, '02 Data','Prepared data', 'ords_prods_merge.pkl'))"
   ]
  },
  {
   "cell_type": "code",
   "execution_count": null,
   "id": "bc3571eb-8c66-45af-8390-4ec8a26d9c6c",
   "metadata": {},
   "outputs": [],
   "source": []
  }
 ],
 "metadata": {
  "kernelspec": {
   "display_name": "Python 3 (ipykernel)",
   "language": "python",
   "name": "python3"
  },
  "language_info": {
   "codemirror_mode": {
    "name": "ipython",
    "version": 3
   },
   "file_extension": ".py",
   "mimetype": "text/x-python",
   "name": "python",
   "nbconvert_exporter": "python",
   "pygments_lexer": "ipython3",
   "version": "3.12.7"
  }
 },
 "nbformat": 4,
 "nbformat_minor": 5
}
