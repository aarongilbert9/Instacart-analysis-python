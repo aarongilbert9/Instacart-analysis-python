{
 "cells": [
  {
   "cell_type": "markdown",
   "id": "8044a900-898a-44ba-9312-b16c0f295ab6",
   "metadata": {},
   "source": [
    "4.10 Instacart Final Task Contents Import Libraries and Dataframes Create regional segmentation of data Determine whether there’s a difference in spending habits between the different U.S. regions Create an exclusion flag for low-activity customers Customer profiling Aggregate the max, mean, and min variables on a customer-profile level for usage frequency and expenditure Compare customer profiles with regions and departments Visualizations"
   ]
  },
  {
   "cell_type": "code",
   "execution_count": 1,
   "id": "b783823e-3489-4eb7-974a-90c6046bec3a",
   "metadata": {},
   "outputs": [],
   "source": [
    "# importing libraries\n",
    "\n",
    "import pandas as pd\n",
    "import numpy as np\n",
    "import os\n",
    "import matplotlib.pyplot as plt\n",
    "import seaborn as sns\n",
    "import scipy"
   ]
  },
  {
   "cell_type": "code",
   "execution_count": 3,
   "id": "5a82a440-62f7-4c48-88c0-957da3382963",
   "metadata": {},
   "outputs": [],
   "source": [
    "path = r'OneDrive/Desktop/Instacart basket Analysis 12-2024'"
   ]
  },
  {
   "cell_type": "code",
   "execution_count": 5,
   "id": "48b3bcf8-03dd-4238-8c1b-cb7c9142b7c6",
   "metadata": {},
   "outputs": [],
   "source": [
    "# install dataframe\n",
    "instacart = pd.read_pickle(os.path.join(path, '02 Data', 'Prepared data', 'orders_products_customers_merge.pkl'))"
   ]
  },
  {
   "cell_type": "markdown",
   "id": "469b6964-426b-4a2d-8eff-b7ff2112b6f6",
   "metadata": {},
   "source": [
    "3. Create a regional segmentation of the data"
   ]
  },
  {
   "cell_type": "code",
   "execution_count": 9,
   "id": "2ef29568-b471-4a6d-b816-ab101a4ab0fb",
   "metadata": {},
   "outputs": [],
   "source": [
    "# Assign Northeast Region\n",
    "instacart.loc[instacart['state'] == 'Maine', 'region'] = 'Northeast'\n",
    "instacart.loc[instacart['state'] == 'New Hampshire', 'region'] = 'Northeast'\n",
    "instacart.loc[instacart['state'] == 'Vermont', 'region'] = 'Northeast'\n",
    "instacart.loc[instacart['state'] == 'Pennsylvania', 'region'] = 'Northeast'\n",
    "instacart.loc[instacart['state'] == 'Massachusetts', 'region'] = 'Northeast'\n",
    "instacart.loc[instacart['state'] == 'Rhode Island', 'region'] = 'Northeast'\n",
    "instacart.loc[instacart['state'] == 'Connecticut', 'region'] = 'Northeast'"
   ]
  },
  {
   "cell_type": "code",
   "execution_count": 11,
   "id": "deb09e17-7b11-4faa-8e52-f9bf393d6220",
   "metadata": {},
   "outputs": [],
   "source": [
    "# Assign Midwest Region\n",
    "instacart.loc[instacart['state'] == 'Wisconsin', 'region'] = 'Midwest'\n",
    "instacart.loc[instacart['state'] == 'Michigan', 'region'] = 'Midwest'\n",
    "instacart.loc[instacart['state'] == 'Illinois', 'region'] = 'Midwest'\n",
    "instacart.loc[instacart['state'] == 'Indiana', 'region'] = 'Midwest'\n",
    "instacart.loc[instacart['state'] == 'Ohio', 'region'] = 'Midwest'"
   ]
  },
  {
   "cell_type": "code",
   "execution_count": 13,
   "id": "2931a24d-54b8-4ff9-ab4f-3b330bd30232",
   "metadata": {},
   "outputs": [],
   "source": [
    "# Assign Midwest Region2\n",
    "instacart.loc[instacart['state'] == 'North Dakota', 'region'] = 'Midwest'\n",
    "instacart.loc[instacart['state'] == 'South Dakota', 'region'] = 'Midwest'\n",
    "instacart.loc[instacart['state'] == 'Nebraska', 'region'] = 'Midwest'\n",
    "instacart.loc[instacart['state'] == 'Kansas', 'region'] = 'Midwest'\n",
    "instacart.loc[instacart['state'] == 'Minnesota', 'region'] = 'Midwest'\n",
    "instacart.loc[instacart['state'] == 'Iowa', 'region'] = 'Midwest'\n",
    "instacart.loc[instacart['state'] == 'Missouri', 'region'] = 'Midwest'"
   ]
  },
  {
   "cell_type": "code",
   "execution_count": 15,
   "id": "9080de1f-2e90-4ff9-96e3-126a347076b2",
   "metadata": {},
   "outputs": [],
   "source": [
    "# Assign South Region\n",
    "instacart.loc[instacart['state'] == 'Delaware', 'region'] = 'South'\n",
    "instacart.loc[instacart['state'] == 'Maryland', 'region'] = 'South'\n",
    "instacart.loc[instacart['state'] == 'District of Columbia', 'region'] = 'South'\n",
    "instacart.loc[instacart['state'] == 'Virginia', 'region'] = 'South'\n",
    "instacart.loc[instacart['state'] == 'West Virginia', 'region'] = 'South'\n",
    "instacart.loc[instacart['state'] == 'North Carolina', 'region'] = 'South'\n",
    "instacart.loc[instacart['state'] == 'South Carolina', 'region'] = 'South'\n",
    "instacart.loc[instacart['state'] == 'Georgia', 'region'] = 'South'\n",
    "instacart.loc[instacart['state'] == 'Florida', 'region'] = 'South'"
   ]
  },
  {
   "cell_type": "code",
   "execution_count": 16,
   "id": "17224906-8e45-442e-92a8-be03e65ac1bc",
   "metadata": {},
   "outputs": [],
   "source": [
    "# Assign South Region2\n",
    "instacart.loc[instacart['state'] == 'Kentucky', 'region'] = 'South'\n",
    "instacart.loc[instacart['state'] == 'Tennessee', 'region'] = 'South'\n",
    "instacart.loc[instacart['state'] == 'Mississippi', 'region'] = 'South'\n",
    "instacart.loc[instacart['state'] == 'Alabama', 'region'] = 'South'"
   ]
  },
  {
   "cell_type": "code",
   "execution_count": 17,
   "id": "05386aac-a6ce-4bef-9dc3-e333cab34623",
   "metadata": {},
   "outputs": [],
   "source": [
    "# Assign South Region3\n",
    "instacart.loc[instacart['state'] == 'Oklahoma', 'region'] = 'South'\n",
    "instacart.loc[instacart['state'] == 'Texas', 'region'] = 'South'\n",
    "instacart.loc[instacart['state'] == 'Arkansas', 'region'] = 'South'\n",
    "instacart.loc[instacart['state'] == 'Louisiana', 'region'] = 'South'"
   ]
  },
  {
   "cell_type": "code",
   "execution_count": 21,
   "id": "800f4b48-0635-4482-b623-02b17ce963d3",
   "metadata": {},
   "outputs": [],
   "source": [
    "# Assign West Region\n",
    "instacart.loc[instacart['state'] == 'Idaho', 'region'] = 'West'\n",
    "instacart.loc[instacart['state'] == 'Montana', 'region'] = 'West'\n",
    "instacart.loc[instacart['state'] == 'Wyoming', 'region'] = 'West'\n",
    "instacart.loc[instacart['state'] == 'Nevada', 'region'] = 'West'\n",
    "instacart.loc[instacart['state'] == 'Utah', 'region'] = 'West'\n",
    "instacart.loc[instacart['state'] == 'Colorado', 'region'] = 'West'\n",
    "instacart.loc[instacart['state'] == 'Arizona', 'region'] = 'West'\n",
    "instacart.loc[instacart['state'] == 'New Mexico', 'region'] = 'West'"
   ]
  },
  {
   "cell_type": "code",
   "execution_count": 22,
   "id": "49b6e0da-51b2-4dbb-a303-fea275f5f4f7",
   "metadata": {},
   "outputs": [],
   "source": [
    "# Assign West Region2\n",
    "instacart.loc[instacart['state'] == 'Alaska', 'region'] = 'West'\n",
    "instacart.loc[instacart['state'] == 'Washington', 'region'] = 'West'\n",
    "instacart.loc[instacart['state'] == 'Oregon', 'region'] = 'West'\n",
    "instacart.loc[instacart['state'] == 'California', 'region'] = 'West'\n",
    "instacart.loc[instacart['state'] == 'Hawaii', 'region'] = 'West'"
   ]
  },
  {
   "cell_type": "markdown",
   "id": "8b25b7b3-7577-4d94-bab0-e46b1ddaa4e4",
   "metadata": {},
   "source": [
    "Determine whether there’s a difference in spending habits between the different U.S. regions"
   ]
  },
  {
   "cell_type": "code",
   "execution_count": 26,
   "id": "240ad50e-2963-4980-8145-70933ee53869",
   "metadata": {},
   "outputs": [],
   "source": [
    "# Crosstab Region to spending flag\n",
    "crosstab = pd.crosstab(instacart['region'], instacart['spending_flag'], dropna = False)"
   ]
  },
  {
   "cell_type": "code",
   "execution_count": 27,
   "id": "47dfa21d-1e03-41d5-a9bc-c8088ca662a7",
   "metadata": {},
   "outputs": [],
   "source": [
    "crosstab.to_clipboard()"
   ]
  },
  {
   "cell_type": "code",
   "execution_count": 30,
   "id": "d5948512-c62d-4435-a0f5-4ae042dbfff7",
   "metadata": {},
   "outputs": [],
   "source": [
    "# save changes to instacart\n",
    "instacart.to_pickle(os.path.join(path, '02 Data','Prepared data', 'orders_products_customers_merge.pkl'))"
   ]
  },
  {
   "cell_type": "markdown",
   "id": "0d9e12ab-49f0-456c-a854-c9b64a2827ae",
   "metadata": {},
   "source": [
    "4. Create an exclusion flag for low-activity customers (customers with less than 5 orders) and exclude them from the data"
   ]
  },
  {
   "cell_type": "code",
   "execution_count": 32,
   "id": "b51a6b60-0515-4611-b7c5-e6d21aa121cb",
   "metadata": {},
   "outputs": [],
   "source": [
    "# Create a flag for customers with less than 5 orders\n",
    "instacart.loc[instacart['max_order'] < 5, 'activity_flag'] = 'low-activity customer'\n",
    "instacart.loc[instacart['max_order'] >= 5, 'activity_flag'] = 'high-activity customer'"
   ]
  },
  {
   "cell_type": "code",
   "execution_count": 33,
   "id": "df199c04-3ca8-42e5-95a8-710d39ee939a",
   "metadata": {},
   "outputs": [
    {
     "data": {
      "text/plain": [
       "activity_flag\n",
       "high-activity customer    30964564\n",
       "low-activity customer      1440295\n",
       "Name: count, dtype: int64"
      ]
     },
     "execution_count": 33,
     "metadata": {},
     "output_type": "execute_result"
    }
   ],
   "source": [
    "instacart['activity_flag'].value_counts(dropna = False)"
   ]
  },
  {
   "cell_type": "code",
   "execution_count": 37,
   "id": "6f475189-b644-4d20-937c-a96a3d90c16c",
   "metadata": {},
   "outputs": [],
   "source": [
    "# Exclude low-activity customers from the dataframe\n",
    "df_excluded = instacart[instacart['activity_flag'] != 'low-activity customer']"
   ]
  },
  {
   "cell_type": "code",
   "execution_count": 38,
   "id": "259d4357-4ba6-499f-965e-1703ddf6b5b5",
   "metadata": {},
   "outputs": [
    {
     "data": {
      "text/html": [
       "<div>\n",
       "<style scoped>\n",
       "    .dataframe tbody tr th:only-of-type {\n",
       "        vertical-align: middle;\n",
       "    }\n",
       "\n",
       "    .dataframe tbody tr th {\n",
       "        vertical-align: top;\n",
       "    }\n",
       "\n",
       "    .dataframe thead th {\n",
       "        text-align: right;\n",
       "    }\n",
       "</style>\n",
       "<table border=\"1\" class=\"dataframe\">\n",
       "  <thead>\n",
       "    <tr style=\"text-align: right;\">\n",
       "      <th></th>\n",
       "      <th>order_id</th>\n",
       "      <th>user_id</th>\n",
       "      <th>order_count</th>\n",
       "      <th>order_dow</th>\n",
       "      <th>order_hour_of_day</th>\n",
       "      <th>days_since_prior_order</th>\n",
       "      <th>product_id</th>\n",
       "      <th>add_to_cart_order</th>\n",
       "      <th>reordered</th>\n",
       "      <th>product_name</th>\n",
       "      <th>...</th>\n",
       "      <th>last_name</th>\n",
       "      <th>gender</th>\n",
       "      <th>state</th>\n",
       "      <th>age</th>\n",
       "      <th>date_joined</th>\n",
       "      <th>n_dependants</th>\n",
       "      <th>marital_status</th>\n",
       "      <th>income</th>\n",
       "      <th>region</th>\n",
       "      <th>activity_flag</th>\n",
       "    </tr>\n",
       "  </thead>\n",
       "  <tbody>\n",
       "    <tr>\n",
       "      <th>0</th>\n",
       "      <td>2539329</td>\n",
       "      <td>1</td>\n",
       "      <td>1</td>\n",
       "      <td>2</td>\n",
       "      <td>8</td>\n",
       "      <td>NaN</td>\n",
       "      <td>196</td>\n",
       "      <td>1</td>\n",
       "      <td>0</td>\n",
       "      <td>Soda</td>\n",
       "      <td>...</td>\n",
       "      <td>Nguyen</td>\n",
       "      <td>Female</td>\n",
       "      <td>Alabama</td>\n",
       "      <td>31</td>\n",
       "      <td>2/17/2019</td>\n",
       "      <td>3</td>\n",
       "      <td>married</td>\n",
       "      <td>40423</td>\n",
       "      <td>South</td>\n",
       "      <td>high-activity customer</td>\n",
       "    </tr>\n",
       "    <tr>\n",
       "      <th>1</th>\n",
       "      <td>2539329</td>\n",
       "      <td>1</td>\n",
       "      <td>1</td>\n",
       "      <td>2</td>\n",
       "      <td>8</td>\n",
       "      <td>NaN</td>\n",
       "      <td>14084</td>\n",
       "      <td>2</td>\n",
       "      <td>0</td>\n",
       "      <td>Organic Unsweetened Vanilla Almond Milk</td>\n",
       "      <td>...</td>\n",
       "      <td>Nguyen</td>\n",
       "      <td>Female</td>\n",
       "      <td>Alabama</td>\n",
       "      <td>31</td>\n",
       "      <td>2/17/2019</td>\n",
       "      <td>3</td>\n",
       "      <td>married</td>\n",
       "      <td>40423</td>\n",
       "      <td>South</td>\n",
       "      <td>high-activity customer</td>\n",
       "    </tr>\n",
       "    <tr>\n",
       "      <th>2</th>\n",
       "      <td>2539329</td>\n",
       "      <td>1</td>\n",
       "      <td>1</td>\n",
       "      <td>2</td>\n",
       "      <td>8</td>\n",
       "      <td>NaN</td>\n",
       "      <td>12427</td>\n",
       "      <td>3</td>\n",
       "      <td>0</td>\n",
       "      <td>Original Beef Jerky</td>\n",
       "      <td>...</td>\n",
       "      <td>Nguyen</td>\n",
       "      <td>Female</td>\n",
       "      <td>Alabama</td>\n",
       "      <td>31</td>\n",
       "      <td>2/17/2019</td>\n",
       "      <td>3</td>\n",
       "      <td>married</td>\n",
       "      <td>40423</td>\n",
       "      <td>South</td>\n",
       "      <td>high-activity customer</td>\n",
       "    </tr>\n",
       "    <tr>\n",
       "      <th>3</th>\n",
       "      <td>2539329</td>\n",
       "      <td>1</td>\n",
       "      <td>1</td>\n",
       "      <td>2</td>\n",
       "      <td>8</td>\n",
       "      <td>NaN</td>\n",
       "      <td>26088</td>\n",
       "      <td>4</td>\n",
       "      <td>0</td>\n",
       "      <td>Aged White Cheddar Popcorn</td>\n",
       "      <td>...</td>\n",
       "      <td>Nguyen</td>\n",
       "      <td>Female</td>\n",
       "      <td>Alabama</td>\n",
       "      <td>31</td>\n",
       "      <td>2/17/2019</td>\n",
       "      <td>3</td>\n",
       "      <td>married</td>\n",
       "      <td>40423</td>\n",
       "      <td>South</td>\n",
       "      <td>high-activity customer</td>\n",
       "    </tr>\n",
       "    <tr>\n",
       "      <th>4</th>\n",
       "      <td>2539329</td>\n",
       "      <td>1</td>\n",
       "      <td>1</td>\n",
       "      <td>2</td>\n",
       "      <td>8</td>\n",
       "      <td>NaN</td>\n",
       "      <td>26405</td>\n",
       "      <td>5</td>\n",
       "      <td>0</td>\n",
       "      <td>XL Pick-A-Size Paper Towel Rolls</td>\n",
       "      <td>...</td>\n",
       "      <td>Nguyen</td>\n",
       "      <td>Female</td>\n",
       "      <td>Alabama</td>\n",
       "      <td>31</td>\n",
       "      <td>2/17/2019</td>\n",
       "      <td>3</td>\n",
       "      <td>married</td>\n",
       "      <td>40423</td>\n",
       "      <td>South</td>\n",
       "      <td>high-activity customer</td>\n",
       "    </tr>\n",
       "  </tbody>\n",
       "</table>\n",
       "<p>5 rows × 34 columns</p>\n",
       "</div>"
      ],
      "text/plain": [
       "   order_id  user_id  order_count  order_dow  order_hour_of_day  \\\n",
       "0   2539329        1            1          2                  8   \n",
       "1   2539329        1            1          2                  8   \n",
       "2   2539329        1            1          2                  8   \n",
       "3   2539329        1            1          2                  8   \n",
       "4   2539329        1            1          2                  8   \n",
       "\n",
       "   days_since_prior_order  product_id  add_to_cart_order  reordered  \\\n",
       "0                     NaN         196                  1          0   \n",
       "1                     NaN       14084                  2          0   \n",
       "2                     NaN       12427                  3          0   \n",
       "3                     NaN       26088                  4          0   \n",
       "4                     NaN       26405                  5          0   \n",
       "\n",
       "                              product_name  ...  last_name  gender    state  \\\n",
       "0                                     Soda  ...     Nguyen  Female  Alabama   \n",
       "1  Organic Unsweetened Vanilla Almond Milk  ...     Nguyen  Female  Alabama   \n",
       "2                      Original Beef Jerky  ...     Nguyen  Female  Alabama   \n",
       "3               Aged White Cheddar Popcorn  ...     Nguyen  Female  Alabama   \n",
       "4         XL Pick-A-Size Paper Towel Rolls  ...     Nguyen  Female  Alabama   \n",
       "\n",
       "  age date_joined n_dependants marital_status  income region  \\\n",
       "0  31   2/17/2019            3        married   40423  South   \n",
       "1  31   2/17/2019            3        married   40423  South   \n",
       "2  31   2/17/2019            3        married   40423  South   \n",
       "3  31   2/17/2019            3        married   40423  South   \n",
       "4  31   2/17/2019            3        married   40423  South   \n",
       "\n",
       "            activity_flag  \n",
       "0  high-activity customer  \n",
       "1  high-activity customer  \n",
       "2  high-activity customer  \n",
       "3  high-activity customer  \n",
       "4  high-activity customer  \n",
       "\n",
       "[5 rows x 34 columns]"
      ]
     },
     "execution_count": 38,
     "metadata": {},
     "output_type": "execute_result"
    }
   ],
   "source": [
    "instacart.head()"
   ]
  },
  {
   "cell_type": "code",
   "execution_count": 41,
   "id": "42f70cd5-25b7-4e69-a631-a6ec27cc77f3",
   "metadata": {},
   "outputs": [
    {
     "data": {
      "text/plain": [
       "(32404859, 34)"
      ]
     },
     "execution_count": 41,
     "metadata": {},
     "output_type": "execute_result"
    }
   ],
   "source": [
    "instacart.shape"
   ]
  },
  {
   "cell_type": "code",
   "execution_count": 91,
   "id": "386258b4-9d11-4927-a871-6a384cd40753",
   "metadata": {},
   "outputs": [
    {
     "name": "stdout",
     "output_type": "stream",
     "text": [
      "<class 'pandas.core.frame.DataFrame'>\n",
      "RangeIndex: 32404859 entries, 0 to 32404858\n",
      "Data columns (total 34 columns):\n",
      " #   Column                      Dtype  \n",
      "---  ------                      -----  \n",
      " 0   order_id                    int32  \n",
      " 1   user_id                     int32  \n",
      " 2   order_count                 int8   \n",
      " 3   order_dow                   int8   \n",
      " 4   order_hour_of_day           int8   \n",
      " 5   days_since_prior_order      float16\n",
      " 6   product_id                  int32  \n",
      " 7   add_to_cart_order           int32  \n",
      " 8   reordered                   int8   \n",
      " 9   product_name                object \n",
      " 10  aisle_id                    int8   \n",
      " 11  department_id               int8   \n",
      " 12  prices                      float16\n",
      " 13  price_range_loc             object \n",
      " 14  busiest_day                 object \n",
      " 15  busiest_days                object \n",
      " 16  busiest_period_of_day       object \n",
      " 17  max_order                   int8   \n",
      " 18  loyalty_flag                object \n",
      " 19  avg_product_price           float32\n",
      " 20  spending_flag               object \n",
      " 21  median_days_between_orders  float16\n",
      " 22  order_frequency_flag        object \n",
      " 23  first_name                  object \n",
      " 24  last_name                   object \n",
      " 25  gender                      object \n",
      " 26  state                       object \n",
      " 27  age                         int64  \n",
      " 28  date_joined                 object \n",
      " 29  n_dependants                int64  \n",
      " 30  marital_status              object \n",
      " 31  income                      int64  \n",
      " 32  region                      object \n",
      " 33  activity_flag               object \n",
      "dtypes: float16(3), float32(1), int32(4), int64(3), int8(7), object(16)\n",
      "memory usage: 5.6+ GB\n"
     ]
    }
   ],
   "source": [
    "instacart.info()"
   ]
  },
  {
   "cell_type": "code",
   "execution_count": 43,
   "id": "b522d4b4-5acd-4572-8ffd-0ee1e2bfb89d",
   "metadata": {},
   "outputs": [],
   "source": [
    "# Export the new dataframe\n",
    "df_excluded.to_pickle(os.path.join(path, '02 Data','Prepared Data', 'low_activity_excluded.pkl'))"
   ]
  },
  {
   "cell_type": "markdown",
   "id": "da37b4a2-d8ab-4cac-86bc-064159c4326a",
   "metadata": {},
   "source": [
    "5. & 6. Create a profiling variable based on age, income, certain goods in the “department_id” column, and number of dependents. You might also use the “orders_day_of_week” and “order_hour_of_day” columns if you can think of a way they would impact customer profiles. Then create images\n",
    "   "
   ]
  },
  {
   "cell_type": "markdown",
   "id": "1d81bfcb-9090-4d39-ad98-77c5624622ec",
   "metadata": {},
   "source": [
    "income"
   ]
  },
  {
   "cell_type": "code",
   "execution_count": 48,
   "id": "37a2349f-9913-4161-9ce3-b6ff3ebc5cd6",
   "metadata": {},
   "outputs": [
    {
     "name": "stderr",
     "output_type": "stream",
     "text": [
      "C:\\Users\\aaron\\AppData\\Local\\Temp\\ipykernel_9304\\1030381792.py:2: SettingWithCopyWarning: \n",
      "A value is trying to be set on a copy of a slice from a DataFrame.\n",
      "Try using .loc[row_indexer,col_indexer] = value instead\n",
      "\n",
      "See the caveats in the documentation: https://pandas.pydata.org/pandas-docs/stable/user_guide/indexing.html#returning-a-view-versus-a-copy\n",
      "  df_excluded.loc[df_excluded['income'] <= 55000, 'income_group'] = 'low-income'\n"
     ]
    }
   ],
   "source": [
    "# Create an income group variable\n",
    "df_excluded.loc[df_excluded['income'] <= 55000, 'income_group'] = 'low-income'\n",
    "df_excluded.loc[(df_excluded['income'] > 55000) & (df_excluded['income'] <= 150000), 'income_group'] = 'middle-income'\n",
    "df_excluded.loc[df_excluded['income'] > 150000, 'income_group'] = 'high-income'"
   ]
  },
  {
   "cell_type": "code",
   "execution_count": 50,
   "id": "7b4c45c8-318e-43c7-9a2d-7bbb864243b9",
   "metadata": {},
   "outputs": [
    {
     "data": {
      "text/plain": [
       "income_group\n",
       "middle-income    22617642\n",
       "low-income        4452388\n",
       "high-income       3894534\n",
       "Name: count, dtype: int64"
      ]
     },
     "execution_count": 50,
     "metadata": {},
     "output_type": "execute_result"
    }
   ],
   "source": [
    "# Check the counts of income groups\n",
    "df_excluded['income_group'].value_counts(dropna = False)"
   ]
  },
  {
   "cell_type": "code",
   "execution_count": 52,
   "id": "9f2d8d1e-b0c8-4258-adfc-9b83bfff0c89",
   "metadata": {},
   "outputs": [
    {
     "data": {
      "image/png": "[encoded data removed]",
      "text/plain": [
       "<Figure size 640x480 with 1 Axes>"
      ]
     },
     "metadata": {},
     "output_type": "display_data"
    }
   ],
   "source": [
    "# Make a bar chart showing the distribution of income groups\n",
    "income_group_counts = df_excluded['income_group'].value_counts(dropna=False)\n",
    "income_group_distribution_bar = income_group_counts.plot.bar()  \n",
    "plt.title('Distribution of Income Groups')\n",
    "plt.xlabel('')\n",
    "plt.ylabel('Count')\n",
    "plt.show()"
   ]
  },
  {
   "cell_type": "code",
   "execution_count": 54,
   "id": "c9b4d1ea-7462-4d14-8cc5-25c08d7ec2bf",
   "metadata": {},
   "outputs": [],
   "source": [
    "# Export the bar chart\n",
    "income_group_distribution_bar.figure.savefig(os.path.join(path, '04 Analysis','Visualizations', 'income_distribution_bar.png'))"
   ]
  },
  {
   "cell_type": "markdown",
   "id": "30e247df-b95c-4c71-8d89-9f1ecb9d5ae1",
   "metadata": {},
   "source": [
    "Age"
   ]
  },
  {
   "cell_type": "code",
   "execution_count": 57,
   "id": "7f3e6aff-aa93-4da2-bdf3-db040ba295f3",
   "metadata": {},
   "outputs": [
    {
     "name": "stderr",
     "output_type": "stream",
     "text": [
      "C:\\Users\\aaron\\AppData\\Local\\Temp\\ipykernel_9304\\2854730798.py:2: SettingWithCopyWarning: \n",
      "A value is trying to be set on a copy of a slice from a DataFrame.\n",
      "Try using .loc[row_indexer,col_indexer] = value instead\n",
      "\n",
      "See the caveats in the documentation: https://pandas.pydata.org/pandas-docs/stable/user_guide/indexing.html#returning-a-view-versus-a-copy\n",
      "  df_excluded.loc[df_excluded['age'] <= 25, 'age_group'] = 'young adult'\n"
     ]
    }
   ],
   "source": [
    "# Create an age group variable\n",
    "df_excluded.loc[df_excluded['age'] <= 25, 'age_group'] = 'young adult'\n",
    "df_excluded.loc[(df_excluded['age'] > 25) & (df_excluded['age'] <= 44), 'age_group'] = 'adult'\n",
    "df_excluded.loc[(df_excluded['age'] > 44) & (df_excluded['age'] <= 64), 'age_group'] = 'middle-aged'\n",
    "df_excluded.loc[df_excluded['age'] > 64, 'age_group'] = 'senior'"
   ]
  },
  {
   "cell_type": "code",
   "execution_count": 59,
   "id": "e3e26b32-9557-4673-a8d8-e3f05d86c51e",
   "metadata": {},
   "outputs": [
    {
     "data": {
      "text/plain": [
       "age_group\n",
       "middle-aged    9690051\n",
       "adult          9214451\n",
       "senior         8195544\n",
       "young adult    3864518\n",
       "Name: count, dtype: int64"
      ]
     },
     "execution_count": 59,
     "metadata": {},
     "output_type": "execute_result"
    }
   ],
   "source": [
    "# Check value counts for each age group\n",
    "age_group_counts = df_excluded['age_group'].value_counts(dropna = False)\n",
    "age_group_counts"
   ]
  },
  {
   "cell_type": "code",
   "execution_count": 61,
   "id": "b94dcda6-509c-4023-94cf-8d6868b18755",
   "metadata": {},
   "outputs": [
    {
     "data": {
      "image/png": "[encoded data removed]",
      "text/plain": [
       "<Figure size 640x480 with 1 Axes>"
      ]
     },
     "metadata": {},
     "output_type": "display_data"
    }
   ],
   "source": [
    "# Make a pie chart showing the distribution of age groups\n",
    "age_group_distribution_pie = age_group_counts.plot.pie(autopct='%1.1f%%', labels= ['middle-aged: 45-64 years', 'adult: 26-44 years', 'senior: 65+ years', 'young adult: up to 25 years'], startangle=90, colors=['#ff9999','#66b3ff','#99ff99','#ffcc99'])\n",
    "plt.ylabel('')  # Hide the y-label\n",
    "plt.title('Distribution of Age Groups')\n",
    "plt.show()"
   ]
  },
  {
   "cell_type": "code",
   "execution_count": 63,
   "id": "4540824c-7672-4d24-affd-0f52790ba183",
   "metadata": {},
   "outputs": [],
   "source": [
    "# Export chart\n",
    "age_group_distribution_pie.figure.savefig(os.path.join(path, '04 Analysis','Visualizations', 'age_group_distribution_pie.png'))"
   ]
  },
  {
   "cell_type": "markdown",
   "id": "4ef35a09-ffc3-4ba8-8599-2d181376c3cd",
   "metadata": {},
   "source": [
    "Dependants"
   ]
  },
  {
   "cell_type": "code",
   "execution_count": 66,
   "id": "5de6c4bb-9ce8-4a9e-a080-749bff506978",
   "metadata": {},
   "outputs": [
    {
     "name": "stderr",
     "output_type": "stream",
     "text": [
      "C:\\Users\\aaron\\AppData\\Local\\Temp\\ipykernel_9304\\2552754020.py:2: SettingWithCopyWarning: \n",
      "A value is trying to be set on a copy of a slice from a DataFrame.\n",
      "Try using .loc[row_indexer,col_indexer] = value instead\n",
      "\n",
      "See the caveats in the documentation: https://pandas.pydata.org/pandas-docs/stable/user_guide/indexing.html#returning-a-view-versus-a-copy\n",
      "  df_excluded.loc[df_excluded['n_dependants'] == 0, 'dependants_flag'] = 'no dependants'\n"
     ]
    }
   ],
   "source": [
    "# Create a dependents flag\n",
    "df_excluded.loc[df_excluded['n_dependants'] == 0, 'dependants_flag'] = 'no dependants'\n",
    "df_excluded.loc[df_excluded['n_dependants'] >= 1, 'dependants_flag'] = 'has dependants'"
   ]
  },
  {
   "cell_type": "code",
   "execution_count": 68,
   "id": "667faf22-1bad-426b-9a4e-72ce45f647e3",
   "metadata": {},
   "outputs": [
    {
     "data": {
      "text/plain": [
       "dependants_flag\n",
       "has dependants    23224883\n",
       "no dependants      7739681\n",
       "Name: count, dtype: int64"
      ]
     },
     "execution_count": 68,
     "metadata": {},
     "output_type": "execute_result"
    }
   ],
   "source": [
    "# Check value counts\n",
    "dependant_counts = df_excluded['dependants_flag'].value_counts(dropna = False)\n",
    "dependant_counts"
   ]
  },
  {
   "cell_type": "code",
   "execution_count": 70,
   "id": "8ca5eb8d-1293-4848-a09a-4eaec4d8b455",
   "metadata": {},
   "outputs": [
    {
     "data": {
      "image/png": "[encoded data removed]",
      "text/plain": [
       "<Figure size 640x480 with 1 Axes>"
      ]
     },
     "metadata": {},
     "output_type": "display_data"
    }
   ],
   "source": [
    "# Make a pie chart showing the percentage of dependants\n",
    "dependants_pie = dependant_counts.plot.pie(autopct='%1.1f%%', labels= ['has dependants', 'no dependants'], startangle=90, colors=['#ff9999','#66b3ff'])\n",
    "plt.ylabel('')  # Hide the y-label\n",
    "plt.title('Percentage Having Dependants')\n",
    "plt.show()"
   ]
  },
  {
   "cell_type": "markdown",
   "id": "c467bc75-ca75-4a4f-b2c4-d98cfe98d15d",
   "metadata": {},
   "source": [
    "Orders by department"
   ]
  },
  {
   "cell_type": "code",
   "execution_count": 162,
   "id": "c465b2f7-d80b-4156-81b8-e5ff13a684e0",
   "metadata": {},
   "outputs": [],
   "source": [
    "# Import departments dataframe\n",
    "dept = pd.read_csv(os.path.join(path, '02 Data', 'prepared data', 'departments_wrangled.csv'))"
   ]
  },
  {
   "cell_type": "code",
   "execution_count": 166,
   "id": "1341f5cb-a82a-44b4-b91b-6eba10020cff",
   "metadata": {},
   "outputs": [
    {
     "data": {
      "text/html": [
       "<div>\n",
       "<style scoped>\n",
       "    .dataframe tbody tr th:only-of-type {\n",
       "        vertical-align: middle;\n",
       "    }\n",
       "\n",
       "    .dataframe tbody tr th {\n",
       "        vertical-align: top;\n",
       "    }\n",
       "\n",
       "    .dataframe thead th {\n",
       "        text-align: right;\n",
       "    }\n",
       "</style>\n",
       "<table border=\"1\" class=\"dataframe\">\n",
       "  <thead>\n",
       "    <tr style=\"text-align: right;\">\n",
       "      <th></th>\n",
       "      <th>Unnamed: 0</th>\n",
       "      <th>department</th>\n",
       "    </tr>\n",
       "  </thead>\n",
       "  <tbody>\n",
       "    <tr>\n",
       "      <th>0</th>\n",
       "      <td>1</td>\n",
       "      <td>frozen</td>\n",
       "    </tr>\n",
       "    <tr>\n",
       "      <th>1</th>\n",
       "      <td>2</td>\n",
       "      <td>other</td>\n",
       "    </tr>\n",
       "    <tr>\n",
       "      <th>2</th>\n",
       "      <td>3</td>\n",
       "      <td>bakery</td>\n",
       "    </tr>\n",
       "    <tr>\n",
       "      <th>3</th>\n",
       "      <td>4</td>\n",
       "      <td>produce</td>\n",
       "    </tr>\n",
       "    <tr>\n",
       "      <th>4</th>\n",
       "      <td>5</td>\n",
       "      <td>alcohol</td>\n",
       "    </tr>\n",
       "  </tbody>\n",
       "</table>\n",
       "</div>"
      ],
      "text/plain": [
       "   Unnamed: 0 department\n",
       "0           1     frozen\n",
       "1           2      other\n",
       "2           3     bakery\n",
       "3           4    produce\n",
       "4           5    alcohol"
      ]
     },
     "execution_count": 166,
     "metadata": {},
     "output_type": "execute_result"
    }
   ],
   "source": [
    "dept.head()"
   ]
  },
  {
   "cell_type": "code",
   "execution_count": 199,
   "id": "b1a384e0-d628-4503-aca1-850da5f43790",
   "metadata": {},
   "outputs": [],
   "source": [
    "# changing column unnamed: 0 to department_id to merge later\n",
    "df_new = dept.rename(columns = {'Unnamed: 0': 'department_id'})"
   ]
  },
  {
   "cell_type": "code",
   "execution_count": 205,
   "id": "f9d2ce78-d21f-450d-8330-2e07a85c2f08",
   "metadata": {},
   "outputs": [],
   "source": [
    "# import dataframe\n",
    "df_excluded = pd.read_pickle(os.path.join(path, '02 Data', 'Prepared Data', 'low_activity_excluded.pkl'))"
   ]
  },
  {
   "cell_type": "code",
   "execution_count": 209,
   "id": "507b68b4-31c5-4239-b61f-1571601afeea",
   "metadata": {},
   "outputs": [],
   "source": [
    "df_final_merged = df_excluded.merge(dept_new, on = 'department_id')"
   ]
  },
  {
   "cell_type": "code",
   "execution_count": 216,
   "id": "9aa6d4ee-eb2a-42f7-b0fd-02309921a1dd",
   "metadata": {},
   "outputs": [
    {
     "data": {
      "text/html": [
       "<div>\n",
       "<style scoped>\n",
       "    .dataframe tbody tr th:only-of-type {\n",
       "        vertical-align: middle;\n",
       "    }\n",
       "\n",
       "    .dataframe tbody tr th {\n",
       "        vertical-align: top;\n",
       "    }\n",
       "\n",
       "    .dataframe thead th {\n",
       "        text-align: right;\n",
       "    }\n",
       "</style>\n",
       "<table border=\"1\" class=\"dataframe\">\n",
       "  <thead>\n",
       "    <tr style=\"text-align: right;\">\n",
       "      <th></th>\n",
       "      <th>order_id</th>\n",
       "      <th>user_id</th>\n",
       "      <th>order_count</th>\n",
       "      <th>order_dow</th>\n",
       "      <th>order_hour_of_day</th>\n",
       "      <th>days_since_prior_order</th>\n",
       "      <th>product_id</th>\n",
       "      <th>add_to_cart_order</th>\n",
       "      <th>reordered</th>\n",
       "      <th>product_name</th>\n",
       "      <th>...</th>\n",
       "      <th>date_joined</th>\n",
       "      <th>n_dependants</th>\n",
       "      <th>marital_status</th>\n",
       "      <th>income</th>\n",
       "      <th>region</th>\n",
       "      <th>activity_flag</th>\n",
       "      <th>income_group</th>\n",
       "      <th>age_group</th>\n",
       "      <th>dependants_flag</th>\n",
       "      <th>department</th>\n",
       "    </tr>\n",
       "  </thead>\n",
       "  <tbody>\n",
       "    <tr>\n",
       "      <th>0</th>\n",
       "      <td>2539329</td>\n",
       "      <td>1</td>\n",
       "      <td>1</td>\n",
       "      <td>2</td>\n",
       "      <td>8</td>\n",
       "      <td>NaN</td>\n",
       "      <td>196</td>\n",
       "      <td>1</td>\n",
       "      <td>0</td>\n",
       "      <td>Soda</td>\n",
       "      <td>...</td>\n",
       "      <td>2/17/2019</td>\n",
       "      <td>3</td>\n",
       "      <td>married</td>\n",
       "      <td>40423</td>\n",
       "      <td>South</td>\n",
       "      <td>high-activity customer</td>\n",
       "      <td>low-income</td>\n",
       "      <td>adult</td>\n",
       "      <td>has dependants</td>\n",
       "      <td>beverages</td>\n",
       "    </tr>\n",
       "    <tr>\n",
       "      <th>1</th>\n",
       "      <td>2539329</td>\n",
       "      <td>1</td>\n",
       "      <td>1</td>\n",
       "      <td>2</td>\n",
       "      <td>8</td>\n",
       "      <td>NaN</td>\n",
       "      <td>14084</td>\n",
       "      <td>2</td>\n",
       "      <td>0</td>\n",
       "      <td>Organic Unsweetened Vanilla Almond Milk</td>\n",
       "      <td>...</td>\n",
       "      <td>2/17/2019</td>\n",
       "      <td>3</td>\n",
       "      <td>married</td>\n",
       "      <td>40423</td>\n",
       "      <td>South</td>\n",
       "      <td>high-activity customer</td>\n",
       "      <td>low-income</td>\n",
       "      <td>adult</td>\n",
       "      <td>has dependants</td>\n",
       "      <td>dairy eggs</td>\n",
       "    </tr>\n",
       "    <tr>\n",
       "      <th>2</th>\n",
       "      <td>2539329</td>\n",
       "      <td>1</td>\n",
       "      <td>1</td>\n",
       "      <td>2</td>\n",
       "      <td>8</td>\n",
       "      <td>NaN</td>\n",
       "      <td>12427</td>\n",
       "      <td>3</td>\n",
       "      <td>0</td>\n",
       "      <td>Original Beef Jerky</td>\n",
       "      <td>...</td>\n",
       "      <td>2/17/2019</td>\n",
       "      <td>3</td>\n",
       "      <td>married</td>\n",
       "      <td>40423</td>\n",
       "      <td>South</td>\n",
       "      <td>high-activity customer</td>\n",
       "      <td>low-income</td>\n",
       "      <td>adult</td>\n",
       "      <td>has dependants</td>\n",
       "      <td>snacks</td>\n",
       "    </tr>\n",
       "    <tr>\n",
       "      <th>3</th>\n",
       "      <td>2539329</td>\n",
       "      <td>1</td>\n",
       "      <td>1</td>\n",
       "      <td>2</td>\n",
       "      <td>8</td>\n",
       "      <td>NaN</td>\n",
       "      <td>26088</td>\n",
       "      <td>4</td>\n",
       "      <td>0</td>\n",
       "      <td>Aged White Cheddar Popcorn</td>\n",
       "      <td>...</td>\n",
       "      <td>2/17/2019</td>\n",
       "      <td>3</td>\n",
       "      <td>married</td>\n",
       "      <td>40423</td>\n",
       "      <td>South</td>\n",
       "      <td>high-activity customer</td>\n",
       "      <td>low-income</td>\n",
       "      <td>adult</td>\n",
       "      <td>has dependants</td>\n",
       "      <td>snacks</td>\n",
       "    </tr>\n",
       "    <tr>\n",
       "      <th>4</th>\n",
       "      <td>2539329</td>\n",
       "      <td>1</td>\n",
       "      <td>1</td>\n",
       "      <td>2</td>\n",
       "      <td>8</td>\n",
       "      <td>NaN</td>\n",
       "      <td>26405</td>\n",
       "      <td>5</td>\n",
       "      <td>0</td>\n",
       "      <td>XL Pick-A-Size Paper Towel Rolls</td>\n",
       "      <td>...</td>\n",
       "      <td>2/17/2019</td>\n",
       "      <td>3</td>\n",
       "      <td>married</td>\n",
       "      <td>40423</td>\n",
       "      <td>South</td>\n",
       "      <td>high-activity customer</td>\n",
       "      <td>low-income</td>\n",
       "      <td>adult</td>\n",
       "      <td>has dependants</td>\n",
       "      <td>household</td>\n",
       "    </tr>\n",
       "  </tbody>\n",
       "</table>\n",
       "<p>5 rows × 38 columns</p>\n",
       "</div>"
      ],
      "text/plain": [
       "   order_id  user_id  order_count  order_dow  order_hour_of_day  \\\n",
       "0   2539329        1            1          2                  8   \n",
       "1   2539329        1            1          2                  8   \n",
       "2   2539329        1            1          2                  8   \n",
       "3   2539329        1            1          2                  8   \n",
       "4   2539329        1            1          2                  8   \n",
       "\n",
       "   days_since_prior_order  product_id  add_to_cart_order  reordered  \\\n",
       "0                     NaN         196                  1          0   \n",
       "1                     NaN       14084                  2          0   \n",
       "2                     NaN       12427                  3          0   \n",
       "3                     NaN       26088                  4          0   \n",
       "4                     NaN       26405                  5          0   \n",
       "\n",
       "                              product_name  ...  date_joined  n_dependants  \\\n",
       "0                                     Soda  ...    2/17/2019             3   \n",
       "1  Organic Unsweetened Vanilla Almond Milk  ...    2/17/2019             3   \n",
       "2                      Original Beef Jerky  ...    2/17/2019             3   \n",
       "3               Aged White Cheddar Popcorn  ...    2/17/2019             3   \n",
       "4         XL Pick-A-Size Paper Towel Rolls  ...    2/17/2019             3   \n",
       "\n",
       "   marital_status income region           activity_flag income_group  \\\n",
       "0         married  40423  South  high-activity customer   low-income   \n",
       "1         married  40423  South  high-activity customer   low-income   \n",
       "2         married  40423  South  high-activity customer   low-income   \n",
       "3         married  40423  South  high-activity customer   low-income   \n",
       "4         married  40423  South  high-activity customer   low-income   \n",
       "\n",
       "   age_group dependants_flag  department  \n",
       "0      adult  has dependants   beverages  \n",
       "1      adult  has dependants  dairy eggs  \n",
       "2      adult  has dependants      snacks  \n",
       "3      adult  has dependants      snacks  \n",
       "4      adult  has dependants   household  \n",
       "\n",
       "[5 rows x 38 columns]"
      ]
     },
     "execution_count": 216,
     "metadata": {},
     "output_type": "execute_result"
    }
   ],
   "source": [
    "# checking to make sure the deaprtment column was merged correctly\n",
    "df_final_merged.head()"
   ]
  },
  {
   "cell_type": "code",
   "execution_count": 218,
   "id": "01de0593-fb6a-408e-8405-c90bffb0a0c2",
   "metadata": {},
   "outputs": [],
   "source": [
    "# Exporting new dataframe with department merged \n",
    "df_final_merged.to_pickle(os.path.join(path,'02 Data','Prepared Data','orders_products_customers_departments.pkl'))"
   ]
  },
  {
   "cell_type": "code",
   "execution_count": 220,
   "id": "d2b54617-42eb-43e1-a17e-22c56b8a5d22",
   "metadata": {},
   "outputs": [
    {
     "data": {
      "image/png": "[encoded data removed]",
      "text/plain": [
       "<Figure size 640x480 with 1 Axes>"
      ]
     },
     "metadata": {},
     "output_type": "display_data"
    }
   ],
   "source": [
    "# bar chart frequency of orders vs department\n",
    "depts_bar = df_final_merged['department'].value_counts(ascending=True).plot(kind='barh', color='blue', xlabel = 'Count', title='Products Ordered by Department')"
   ]
  },
  {
   "cell_type": "code",
   "execution_count": 222,
   "id": "8b00ad3d-6a2b-4391-a4e8-4cccf1a74ee5",
   "metadata": {},
   "outputs": [],
   "source": [
    "# Export bar chart\n",
    "depts_bar.figure.savefig(os.path.join(path, '04 Analysis','Visualizations', 'depts_bar.png'))"
   ]
  },
  {
   "cell_type": "markdown",
   "id": "725e8753-5a58-4739-9264-0f5678245383",
   "metadata": {},
   "source": [
    "Age vs Department "
   ]
  },
  {
   "cell_type": "code",
   "execution_count": 225,
   "id": "63ee0574-c2fa-4bf3-8369-312ed4abfa54",
   "metadata": {},
   "outputs": [
    {
     "data": {
      "text/html": [
       "<div>\n",
       "<style scoped>\n",
       "    .dataframe tbody tr th:only-of-type {\n",
       "        vertical-align: middle;\n",
       "    }\n",
       "\n",
       "    .dataframe tbody tr th {\n",
       "        vertical-align: top;\n",
       "    }\n",
       "\n",
       "    .dataframe thead th {\n",
       "        text-align: right;\n",
       "    }\n",
       "</style>\n",
       "<table border=\"1\" class=\"dataframe\">\n",
       "  <thead>\n",
       "    <tr style=\"text-align: right;\">\n",
       "      <th>department</th>\n",
       "      <th>alcohol</th>\n",
       "      <th>babies</th>\n",
       "      <th>bakery</th>\n",
       "      <th>beverages</th>\n",
       "      <th>breakfast</th>\n",
       "      <th>bulk</th>\n",
       "      <th>canned goods</th>\n",
       "      <th>dairy eggs</th>\n",
       "      <th>deli</th>\n",
       "      <th>dry goods pasta</th>\n",
       "      <th>...</th>\n",
       "      <th>household</th>\n",
       "      <th>international</th>\n",
       "      <th>meat seafood</th>\n",
       "      <th>missing</th>\n",
       "      <th>other</th>\n",
       "      <th>pantry</th>\n",
       "      <th>personal care</th>\n",
       "      <th>pets</th>\n",
       "      <th>produce</th>\n",
       "      <th>snacks</th>\n",
       "    </tr>\n",
       "    <tr>\n",
       "      <th>age_group</th>\n",
       "      <th></th>\n",
       "      <th></th>\n",
       "      <th></th>\n",
       "      <th></th>\n",
       "      <th></th>\n",
       "      <th></th>\n",
       "      <th></th>\n",
       "      <th></th>\n",
       "      <th></th>\n",
       "      <th></th>\n",
       "      <th></th>\n",
       "      <th></th>\n",
       "      <th></th>\n",
       "      <th></th>\n",
       "      <th></th>\n",
       "      <th></th>\n",
       "      <th></th>\n",
       "      <th></th>\n",
       "      <th></th>\n",
       "      <th></th>\n",
       "      <th></th>\n",
       "    </tr>\n",
       "  </thead>\n",
       "  <tbody>\n",
       "    <tr>\n",
       "      <th>adult</th>\n",
       "      <td>42167</td>\n",
       "      <td>123044</td>\n",
       "      <td>334154</td>\n",
       "      <td>754851</td>\n",
       "      <td>198803</td>\n",
       "      <td>9902</td>\n",
       "      <td>302479</td>\n",
       "      <td>1549127</td>\n",
       "      <td>299970</td>\n",
       "      <td>243702</td>\n",
       "      <td>...</td>\n",
       "      <td>207553</td>\n",
       "      <td>76675</td>\n",
       "      <td>199124</td>\n",
       "      <td>19130</td>\n",
       "      <td>10198</td>\n",
       "      <td>529307</td>\n",
       "      <td>125522</td>\n",
       "      <td>27034</td>\n",
       "      <td>2712590</td>\n",
       "      <td>824677</td>\n",
       "    </tr>\n",
       "    <tr>\n",
       "      <th>middle-aged</th>\n",
       "      <td>46579</td>\n",
       "      <td>129910</td>\n",
       "      <td>350804</td>\n",
       "      <td>814687</td>\n",
       "      <td>211274</td>\n",
       "      <td>10298</td>\n",
       "      <td>315774</td>\n",
       "      <td>1612490</td>\n",
       "      <td>314110</td>\n",
       "      <td>256920</td>\n",
       "      <td>...</td>\n",
       "      <td>218860</td>\n",
       "      <td>79743</td>\n",
       "      <td>209927</td>\n",
       "      <td>20340</td>\n",
       "      <td>10811</td>\n",
       "      <td>558929</td>\n",
       "      <td>134736</td>\n",
       "      <td>28293</td>\n",
       "      <td>2830853</td>\n",
       "      <td>867564</td>\n",
       "    </tr>\n",
       "    <tr>\n",
       "      <th>senior</th>\n",
       "      <td>36693</td>\n",
       "      <td>106204</td>\n",
       "      <td>295997</td>\n",
       "      <td>684020</td>\n",
       "      <td>175296</td>\n",
       "      <td>8945</td>\n",
       "      <td>267509</td>\n",
       "      <td>1368072</td>\n",
       "      <td>265199</td>\n",
       "      <td>217316</td>\n",
       "      <td>...</td>\n",
       "      <td>186630</td>\n",
       "      <td>67199</td>\n",
       "      <td>181150</td>\n",
       "      <td>16915</td>\n",
       "      <td>8946</td>\n",
       "      <td>472383</td>\n",
       "      <td>111052</td>\n",
       "      <td>25115</td>\n",
       "      <td>2408104</td>\n",
       "      <td>728549</td>\n",
       "    </tr>\n",
       "    <tr>\n",
       "      <th>young adult</th>\n",
       "      <td>19188</td>\n",
       "      <td>51234</td>\n",
       "      <td>139873</td>\n",
       "      <td>318343</td>\n",
       "      <td>85477</td>\n",
       "      <td>4306</td>\n",
       "      <td>126312</td>\n",
       "      <td>647493</td>\n",
       "      <td>124555</td>\n",
       "      <td>104198</td>\n",
       "      <td>...</td>\n",
       "      <td>86814</td>\n",
       "      <td>32374</td>\n",
       "      <td>84580</td>\n",
       "      <td>8383</td>\n",
       "      <td>4456</td>\n",
       "      <td>222086</td>\n",
       "      <td>52996</td>\n",
       "      <td>12618</td>\n",
       "      <td>1127726</td>\n",
       "      <td>345616</td>\n",
       "    </tr>\n",
       "  </tbody>\n",
       "</table>\n",
       "<p>4 rows × 21 columns</p>\n",
       "</div>"
      ],
      "text/plain": [
       "department   alcohol  babies  bakery  beverages  breakfast   bulk  \\\n",
       "age_group                                                           \n",
       "adult          42167  123044  334154     754851     198803   9902   \n",
       "middle-aged    46579  129910  350804     814687     211274  10298   \n",
       "senior         36693  106204  295997     684020     175296   8945   \n",
       "young adult    19188   51234  139873     318343      85477   4306   \n",
       "\n",
       "department   canned goods  dairy eggs    deli  dry goods pasta  ...  \\\n",
       "age_group                                                       ...   \n",
       "adult              302479     1549127  299970           243702  ...   \n",
       "middle-aged        315774     1612490  314110           256920  ...   \n",
       "senior             267509     1368072  265199           217316  ...   \n",
       "young adult        126312      647493  124555           104198  ...   \n",
       "\n",
       "department   household  international  meat seafood  missing  other  pantry  \\\n",
       "age_group                                                                     \n",
       "adult           207553          76675        199124    19130  10198  529307   \n",
       "middle-aged     218860          79743        209927    20340  10811  558929   \n",
       "senior          186630          67199        181150    16915   8946  472383   \n",
       "young adult      86814          32374         84580     8383   4456  222086   \n",
       "\n",
       "department   personal care   pets  produce  snacks  \n",
       "age_group                                           \n",
       "adult               125522  27034  2712590  824677  \n",
       "middle-aged         134736  28293  2830853  867564  \n",
       "senior              111052  25115  2408104  728549  \n",
       "young adult          52996  12618  1127726  345616  \n",
       "\n",
       "[4 rows x 21 columns]"
      ]
     },
     "execution_count": 225,
     "metadata": {},
     "output_type": "execute_result"
    }
   ],
   "source": [
    "# crosstab age group vs department\n",
    "age_dept_cross = pd.crosstab(df_final_merged['age_group'], df_final_merged['department'], dropna = False)\n",
    "age_dept_cross"
   ]
  },
  {
   "cell_type": "code",
   "execution_count": 227,
   "id": "715b47f6-fd81-4da6-916e-054b28cd49bd",
   "metadata": {},
   "outputs": [
    {
     "data": {
      "text/plain": [
       "<matplotlib.legend.Legend at 0x173cae00470>"
      ]
     },
     "execution_count": 227,
     "metadata": {},
     "output_type": "execute_result"
    },
    {
     "data": {
      "image/png": "[encoded data removed]",
      "text/plain": [
       "<Figure size 1400x1000 with 1 Axes>"
      ]
     },
     "metadata": {},
     "output_type": "display_data"
    }
   ],
   "source": [
    "# bar chart\n",
    "age_dept_bar = age_dept_cross.plot(kind = 'barh', figsize=(14,10))\n",
    "plt.title('Department Sales by Age Group')\n",
    "plt.xlabel('products count')\n",
    "plt.ylabel('age group')\n",
    "# Move legend outside of plot\n",
    "plt.legend(title='Department', bbox_to_anchor=(1.05, 1), loc='upper left', fontsize=12, title_fontsize=14)"
   ]
  },
  {
   "cell_type": "code",
   "execution_count": 229,
   "id": "809838d8-2701-450e-9a0a-3c3a82b24203",
   "metadata": {},
   "outputs": [],
   "source": [
    "# Export bar chart\n",
    "age_dept_bar.figure.savefig(os.path.join(path, '04 Analysis','Visualizations', 'age_depts_bar.png'))"
   ]
  },
  {
   "cell_type": "markdown",
   "id": "4076da09-a9d2-4c5d-b02f-1916d03269a8",
   "metadata": {},
   "source": [
    "income VS department "
   ]
  },
  {
   "cell_type": "code",
   "execution_count": 232,
   "id": "bc8314a0-3d64-450e-a68e-db218f7e033e",
   "metadata": {},
   "outputs": [
    {
     "data": {
      "text/html": [
       "<div>\n",
       "<style scoped>\n",
       "    .dataframe tbody tr th:only-of-type {\n",
       "        vertical-align: middle;\n",
       "    }\n",
       "\n",
       "    .dataframe tbody tr th {\n",
       "        vertical-align: top;\n",
       "    }\n",
       "\n",
       "    .dataframe thead th {\n",
       "        text-align: right;\n",
       "    }\n",
       "</style>\n",
       "<table border=\"1\" class=\"dataframe\">\n",
       "  <thead>\n",
       "    <tr style=\"text-align: right;\">\n",
       "      <th>department</th>\n",
       "      <th>alcohol</th>\n",
       "      <th>babies</th>\n",
       "      <th>bakery</th>\n",
       "      <th>beverages</th>\n",
       "      <th>breakfast</th>\n",
       "      <th>bulk</th>\n",
       "      <th>canned goods</th>\n",
       "      <th>dairy eggs</th>\n",
       "      <th>deli</th>\n",
       "      <th>dry goods pasta</th>\n",
       "      <th>...</th>\n",
       "      <th>household</th>\n",
       "      <th>international</th>\n",
       "      <th>meat seafood</th>\n",
       "      <th>missing</th>\n",
       "      <th>other</th>\n",
       "      <th>pantry</th>\n",
       "      <th>personal care</th>\n",
       "      <th>pets</th>\n",
       "      <th>produce</th>\n",
       "      <th>snacks</th>\n",
       "    </tr>\n",
       "    <tr>\n",
       "      <th>income_group</th>\n",
       "      <th></th>\n",
       "      <th></th>\n",
       "      <th></th>\n",
       "      <th></th>\n",
       "      <th></th>\n",
       "      <th></th>\n",
       "      <th></th>\n",
       "      <th></th>\n",
       "      <th></th>\n",
       "      <th></th>\n",
       "      <th></th>\n",
       "      <th></th>\n",
       "      <th></th>\n",
       "      <th></th>\n",
       "      <th></th>\n",
       "      <th></th>\n",
       "      <th></th>\n",
       "      <th></th>\n",
       "      <th></th>\n",
       "      <th></th>\n",
       "      <th></th>\n",
       "    </tr>\n",
       "  </thead>\n",
       "  <tbody>\n",
       "    <tr>\n",
       "      <th>high-income</th>\n",
       "      <td>24067</td>\n",
       "      <td>53001</td>\n",
       "      <td>148430</td>\n",
       "      <td>313325</td>\n",
       "      <td>83418</td>\n",
       "      <td>3671</td>\n",
       "      <td>132389</td>\n",
       "      <td>659149</td>\n",
       "      <td>125886</td>\n",
       "      <td>106335</td>\n",
       "      <td>...</td>\n",
       "      <td>92674</td>\n",
       "      <td>32822</td>\n",
       "      <td>91514</td>\n",
       "      <td>8253</td>\n",
       "      <td>4554</td>\n",
       "      <td>231915</td>\n",
       "      <td>53530</td>\n",
       "      <td>12991</td>\n",
       "      <td>1134490</td>\n",
       "      <td>305779</td>\n",
       "    </tr>\n",
       "    <tr>\n",
       "      <th>low-income</th>\n",
       "      <td>22199</td>\n",
       "      <td>43438</td>\n",
       "      <td>144086</td>\n",
       "      <td>479742</td>\n",
       "      <td>116540</td>\n",
       "      <td>5974</td>\n",
       "      <td>112945</td>\n",
       "      <td>680816</td>\n",
       "      <td>141758</td>\n",
       "      <td>92401</td>\n",
       "      <td>...</td>\n",
       "      <td>111508</td>\n",
       "      <td>30240</td>\n",
       "      <td>54717</td>\n",
       "      <td>8902</td>\n",
       "      <td>4958</td>\n",
       "      <td>226221</td>\n",
       "      <td>62888</td>\n",
       "      <td>11782</td>\n",
       "      <td>1139552</td>\n",
       "      <td>673753</td>\n",
       "    </tr>\n",
       "    <tr>\n",
       "      <th>middle-income</th>\n",
       "      <td>98361</td>\n",
       "      <td>313953</td>\n",
       "      <td>828312</td>\n",
       "      <td>1778834</td>\n",
       "      <td>470892</td>\n",
       "      <td>23806</td>\n",
       "      <td>766740</td>\n",
       "      <td>3837217</td>\n",
       "      <td>736190</td>\n",
       "      <td>623400</td>\n",
       "      <td>...</td>\n",
       "      <td>495675</td>\n",
       "      <td>192929</td>\n",
       "      <td>528550</td>\n",
       "      <td>47613</td>\n",
       "      <td>24899</td>\n",
       "      <td>1324569</td>\n",
       "      <td>307888</td>\n",
       "      <td>68287</td>\n",
       "      <td>6805231</td>\n",
       "      <td>1786874</td>\n",
       "    </tr>\n",
       "  </tbody>\n",
       "</table>\n",
       "<p>3 rows × 21 columns</p>\n",
       "</div>"
      ],
      "text/plain": [
       "department     alcohol  babies  bakery  beverages  breakfast   bulk  \\\n",
       "income_group                                                          \n",
       "high-income      24067   53001  148430     313325      83418   3671   \n",
       "low-income       22199   43438  144086     479742     116540   5974   \n",
       "middle-income    98361  313953  828312    1778834     470892  23806   \n",
       "\n",
       "department     canned goods  dairy eggs    deli  dry goods pasta  ...  \\\n",
       "income_group                                                      ...   \n",
       "high-income          132389      659149  125886           106335  ...   \n",
       "low-income           112945      680816  141758            92401  ...   \n",
       "middle-income        766740     3837217  736190           623400  ...   \n",
       "\n",
       "department     household  international  meat seafood  missing  other  \\\n",
       "income_group                                                            \n",
       "high-income        92674          32822         91514     8253   4554   \n",
       "low-income        111508          30240         54717     8902   4958   \n",
       "middle-income     495675         192929        528550    47613  24899   \n",
       "\n",
       "department      pantry  personal care   pets  produce   snacks  \n",
       "income_group                                                    \n",
       "high-income     231915          53530  12991  1134490   305779  \n",
       "low-income      226221          62888  11782  1139552   673753  \n",
       "middle-income  1324569         307888  68287  6805231  1786874  \n",
       "\n",
       "[3 rows x 21 columns]"
      ]
     },
     "execution_count": 232,
     "metadata": {},
     "output_type": "execute_result"
    }
   ],
   "source": [
    "# crosstab income group vs department\n",
    "income_dept_cross = pd.crosstab(df_final_merged['income_group'], df_final_merged['department'], dropna = False)\n",
    "income_dept_cross"
   ]
  },
  {
   "cell_type": "code",
   "execution_count": 234,
   "id": "ab1d2231-41d0-42f6-94b4-c27b59ec27e8",
   "metadata": {},
   "outputs": [
    {
     "data": {
      "text/plain": [
       "<matplotlib.legend.Legend at 0x1720f574d70>"
      ]
     },
     "execution_count": 234,
     "metadata": {},
     "output_type": "execute_result"
    },
    {
     "data": {
      "image/png": "[encoded data removed]",
      "text/plain": [
       "<Figure size 1400x1000 with 1 Axes>"
      ]
     },
     "metadata": {},
     "output_type": "display_data"
    }
   ],
   "source": [
    "# bar chart\n",
    "income_dept_bar = income_dept_cross.plot(kind = 'barh', figsize=(14,10))\n",
    "plt.title('Department Sales by Income Group')\n",
    "plt.xlabel('products count')\n",
    "plt.ylabel('income group')\n",
    "# Move legend outside of plot\n",
    "plt.legend(title='Department', bbox_to_anchor=(1.05, 1), loc='upper left', fontsize=12, title_fontsize=14)"
   ]
  },
  {
   "cell_type": "code",
   "execution_count": 236,
   "id": "2ee508c8-1949-4e07-84a6-d2f71361a832",
   "metadata": {},
   "outputs": [],
   "source": [
    "# Export bar chart\n",
    "income_dept_bar.figure.savefig(os.path.join(path, '04 Analysis','Visualizations', 'income_depts_bar.png'))"
   ]
  },
  {
   "cell_type": "markdown",
   "id": "ed218458-82e6-44ab-8814-956394f49c23",
   "metadata": {},
   "source": [
    "loyalty vs age group"
   ]
  },
  {
   "cell_type": "code",
   "execution_count": 239,
   "id": "3c5d7966-266b-4913-9649-d6de325b629e",
   "metadata": {},
   "outputs": [
    {
     "data": {
      "text/html": [
       "<div>\n",
       "<style scoped>\n",
       "    .dataframe tbody tr th:only-of-type {\n",
       "        vertical-align: middle;\n",
       "    }\n",
       "\n",
       "    .dataframe tbody tr th {\n",
       "        vertical-align: top;\n",
       "    }\n",
       "\n",
       "    .dataframe thead th {\n",
       "        text-align: right;\n",
       "    }\n",
       "</style>\n",
       "<table border=\"1\" class=\"dataframe\">\n",
       "  <thead>\n",
       "    <tr style=\"text-align: right;\">\n",
       "      <th>age_group</th>\n",
       "      <th>adult</th>\n",
       "      <th>middle-aged</th>\n",
       "      <th>senior</th>\n",
       "      <th>young adult</th>\n",
       "    </tr>\n",
       "    <tr>\n",
       "      <th>loyalty_flag</th>\n",
       "      <th></th>\n",
       "      <th></th>\n",
       "      <th></th>\n",
       "      <th></th>\n",
       "    </tr>\n",
       "  </thead>\n",
       "  <tbody>\n",
       "    <tr>\n",
       "      <th>Loyal customer</th>\n",
       "      <td>3048175</td>\n",
       "      <td>3231509</td>\n",
       "      <td>2723958</td>\n",
       "      <td>1280451</td>\n",
       "    </tr>\n",
       "    <tr>\n",
       "      <th>New customer</th>\n",
       "      <td>1420508</td>\n",
       "      <td>1506670</td>\n",
       "      <td>1276659</td>\n",
       "      <td>599858</td>\n",
       "    </tr>\n",
       "    <tr>\n",
       "      <th>Regular customer</th>\n",
       "      <td>4745768</td>\n",
       "      <td>4951872</td>\n",
       "      <td>4194927</td>\n",
       "      <td>1984209</td>\n",
       "    </tr>\n",
       "  </tbody>\n",
       "</table>\n",
       "</div>"
      ],
      "text/plain": [
       "age_group           adult  middle-aged   senior  young adult\n",
       "loyalty_flag                                                \n",
       "Loyal customer    3048175      3231509  2723958      1280451\n",
       "New customer      1420508      1506670  1276659       599858\n",
       "Regular customer  4745768      4951872  4194927      1984209"
      ]
     },
     "execution_count": 239,
     "metadata": {},
     "output_type": "execute_result"
    }
   ],
   "source": [
    "# Crosstab loyalty with age group\n",
    "loyalty_age_cross = pd.crosstab(df_excluded['loyalty_flag'], df_excluded['age_group'], dropna = False)\n",
    "loyalty_age_cross"
   ]
  },
  {
   "cell_type": "code",
   "execution_count": 241,
   "id": "b8bcb951-a815-477a-af50-f107c87f812c",
   "metadata": {},
   "outputs": [
    {
     "data": {
      "text/plain": [
       "(array([0, 1, 2]),\n",
       " [Text(0, 0, 'Loyal customer'),\n",
       "  Text(1, 0, 'New customer'),\n",
       "  Text(2, 0, 'Regular customer')])"
      ]
     },
     "execution_count": 241,
     "metadata": {},
     "output_type": "execute_result"
    },
    {
     "data": {
      "image/png": "[encoded data removed]",
      "text/plain": [
       "<Figure size 640x480 with 1 Axes>"
      ]
     },
     "metadata": {},
     "output_type": "display_data"
    }
   ],
   "source": [
    "# bar chart\n",
    "loyalty_age_bar = loyalty_age_cross.plot.bar()\n",
    "plt.title('Loyalty by Age Group')\n",
    "plt.xlabel('')\n",
    "plt.ylabel('count')\n",
    "plt.xticks(rotation=0)"
   ]
  },
  {
   "cell_type": "code",
   "execution_count": 243,
   "id": "c14e561f-c616-4276-b915-17cc2c66d376",
   "metadata": {},
   "outputs": [],
   "source": [
    "# Export the chart\n",
    "loyalty_age_bar.figure.savefig(os.path.join(path, '04 Analysis','Visualizations', 'loyalty_age_group_bar.png'))"
   ]
  },
  {
   "cell_type": "markdown",
   "id": "5302e24e-4b6e-46f7-981a-90e1e0b862fe",
   "metadata": {},
   "source": [
    "spending by age group"
   ]
  },
  {
   "cell_type": "code",
   "execution_count": 248,
   "id": "eb7249c7-d55f-45e4-b1d6-9c8cdd18dd3e",
   "metadata": {},
   "outputs": [
    {
     "data": {
      "text/html": [
       "<div>\n",
       "<style scoped>\n",
       "    .dataframe tbody tr th:only-of-type {\n",
       "        vertical-align: middle;\n",
       "    }\n",
       "\n",
       "    .dataframe tbody tr th {\n",
       "        vertical-align: top;\n",
       "    }\n",
       "\n",
       "    .dataframe thead th {\n",
       "        text-align: right;\n",
       "    }\n",
       "</style>\n",
       "<table border=\"1\" class=\"dataframe\">\n",
       "  <thead>\n",
       "    <tr style=\"text-align: right;\">\n",
       "      <th>age_group</th>\n",
       "      <th>adult</th>\n",
       "      <th>middle-aged</th>\n",
       "      <th>senior</th>\n",
       "      <th>young adult</th>\n",
       "    </tr>\n",
       "    <tr>\n",
       "      <th>spending_flag</th>\n",
       "      <th></th>\n",
       "      <th></th>\n",
       "      <th></th>\n",
       "      <th></th>\n",
       "    </tr>\n",
       "  </thead>\n",
       "  <tbody>\n",
       "    <tr>\n",
       "      <th>High spender</th>\n",
       "      <td>28064</td>\n",
       "      <td>31087</td>\n",
       "      <td>26777</td>\n",
       "      <td>11382</td>\n",
       "    </tr>\n",
       "    <tr>\n",
       "      <th>Low spender</th>\n",
       "      <td>9186387</td>\n",
       "      <td>9658964</td>\n",
       "      <td>8168767</td>\n",
       "      <td>3853136</td>\n",
       "    </tr>\n",
       "  </tbody>\n",
       "</table>\n",
       "</div>"
      ],
      "text/plain": [
       "age_group        adult  middle-aged   senior  young adult\n",
       "spending_flag                                            \n",
       "High spender     28064        31087    26777        11382\n",
       "Low spender    9186387      9658964  8168767      3853136"
      ]
     },
     "execution_count": 248,
     "metadata": {},
     "output_type": "execute_result"
    }
   ],
   "source": [
    "# Crosstab spending with age group\n",
    "spending_age_cross = pd.crosstab(df_excluded['spending_flag'], df_excluded['age_group'], dropna = False)\n",
    "spending_age_cross"
   ]
  },
  {
   "cell_type": "code",
   "execution_count": 250,
   "id": "3a46a0dc-b6b1-47be-a57c-402689c79c67",
   "metadata": {},
   "outputs": [
    {
     "data": {
      "text/plain": [
       "(array([0, 1]), [Text(0, 0, 'High spender'), Text(1, 0, 'Low spender')])"
      ]
     },
     "execution_count": 250,
     "metadata": {},
     "output_type": "execute_result"
    },
    {
     "data": {
      "image/png": "[encoded data removed]",
      "text/plain": [
       "<Figure size 640x480 with 1 Axes>"
      ]
     },
     "metadata": {},
     "output_type": "display_data"
    }
   ],
   "source": [
    "# bar chart\n",
    "spending_age_bar = spending_age_cross.plot.bar()\n",
    "plt.title('Spending by Age Group')\n",
    "plt.xlabel('')\n",
    "plt.ylabel('count')\n",
    "plt.xticks(rotation=0)"
   ]
  },
  {
   "cell_type": "code",
   "execution_count": 252,
   "id": "0bc570b9-2759-424d-ade4-eebab7e7f3bf",
   "metadata": {},
   "outputs": [],
   "source": [
    "# Export the chart\n",
    "spending_age_bar.figure.savefig(os.path.join(path, '04 Analysis','Visualizations', 'spending_age_group_bar.png'))"
   ]
  },
  {
   "cell_type": "markdown",
   "id": "6e81164c-f073-45f6-a7bd-116315392a7c",
   "metadata": {},
   "source": [
    "7. Aggregate the max, mean, and min variables on a customer-profile level for usage frequency and expenditure"
   ]
  },
  {
   "cell_type": "code",
   "execution_count": 263,
   "id": "8b836215-193f-43d6-9b2d-49cfc547db5c",
   "metadata": {},
   "outputs": [],
   "source": [
    "# Create a subset of customer profiles and show the total price of each order\n",
    "customer_profile = df_final_merged.groupby(['user_id', 'gender', 'state', 'region', 'n_dependants', 'marital_status', 'age_group', 'order_count', 'order_dow', 'order_hour_of_day', 'loyalty_flag', 'order_frequency_flag', 'dependants_flag', 'income_group', 'spending_flag'])['prices'].sum().reset_index()"
   ]
  },
  {
   "cell_type": "code",
   "execution_count": 265,
   "id": "b44655df-f00a-4fd3-ba3c-07d0e79e8099",
   "metadata": {},
   "outputs": [
    {
     "data": {
      "text/html": [
       "<div>\n",
       "<style scoped>\n",
       "    .dataframe tbody tr th:only-of-type {\n",
       "        vertical-align: middle;\n",
       "    }\n",
       "\n",
       "    .dataframe tbody tr th {\n",
       "        vertical-align: top;\n",
       "    }\n",
       "\n",
       "    .dataframe thead th {\n",
       "        text-align: right;\n",
       "    }\n",
       "</style>\n",
       "<table border=\"1\" class=\"dataframe\">\n",
       "  <thead>\n",
       "    <tr style=\"text-align: right;\">\n",
       "      <th></th>\n",
       "      <th>user_id</th>\n",
       "      <th>gender</th>\n",
       "      <th>state</th>\n",
       "      <th>region</th>\n",
       "      <th>n_dependants</th>\n",
       "      <th>marital_status</th>\n",
       "      <th>age_group</th>\n",
       "      <th>order_count</th>\n",
       "      <th>order_dow</th>\n",
       "      <th>order_hour_of_day</th>\n",
       "      <th>loyalty_flag</th>\n",
       "      <th>order_frequency_flag</th>\n",
       "      <th>dependants_flag</th>\n",
       "      <th>income_group</th>\n",
       "      <th>spending_flag</th>\n",
       "      <th>prices</th>\n",
       "    </tr>\n",
       "  </thead>\n",
       "  <tbody>\n",
       "    <tr>\n",
       "      <th>0</th>\n",
       "      <td>1</td>\n",
       "      <td>Female</td>\n",
       "      <td>Alabama</td>\n",
       "      <td>South</td>\n",
       "      <td>3</td>\n",
       "      <td>married</td>\n",
       "      <td>adult</td>\n",
       "      <td>1</td>\n",
       "      <td>2</td>\n",
       "      <td>8</td>\n",
       "      <td>New customer</td>\n",
       "      <td>Non-frequent customer</td>\n",
       "      <td>has dependants</td>\n",
       "      <td>low-income</td>\n",
       "      <td>Low spender</td>\n",
       "      <td>31.597656</td>\n",
       "    </tr>\n",
       "    <tr>\n",
       "      <th>1</th>\n",
       "      <td>1</td>\n",
       "      <td>Female</td>\n",
       "      <td>Alabama</td>\n",
       "      <td>South</td>\n",
       "      <td>3</td>\n",
       "      <td>married</td>\n",
       "      <td>adult</td>\n",
       "      <td>2</td>\n",
       "      <td>3</td>\n",
       "      <td>7</td>\n",
       "      <td>New customer</td>\n",
       "      <td>Non-frequent customer</td>\n",
       "      <td>has dependants</td>\n",
       "      <td>low-income</td>\n",
       "      <td>Low spender</td>\n",
       "      <td>35.394531</td>\n",
       "    </tr>\n",
       "    <tr>\n",
       "      <th>2</th>\n",
       "      <td>1</td>\n",
       "      <td>Female</td>\n",
       "      <td>Alabama</td>\n",
       "      <td>South</td>\n",
       "      <td>3</td>\n",
       "      <td>married</td>\n",
       "      <td>adult</td>\n",
       "      <td>3</td>\n",
       "      <td>3</td>\n",
       "      <td>12</td>\n",
       "      <td>New customer</td>\n",
       "      <td>Non-frequent customer</td>\n",
       "      <td>has dependants</td>\n",
       "      <td>low-income</td>\n",
       "      <td>Low spender</td>\n",
       "      <td>28.199219</td>\n",
       "    </tr>\n",
       "    <tr>\n",
       "      <th>3</th>\n",
       "      <td>1</td>\n",
       "      <td>Female</td>\n",
       "      <td>Alabama</td>\n",
       "      <td>South</td>\n",
       "      <td>3</td>\n",
       "      <td>married</td>\n",
       "      <td>adult</td>\n",
       "      <td>4</td>\n",
       "      <td>4</td>\n",
       "      <td>7</td>\n",
       "      <td>New customer</td>\n",
       "      <td>Non-frequent customer</td>\n",
       "      <td>has dependants</td>\n",
       "      <td>low-income</td>\n",
       "      <td>Low spender</td>\n",
       "      <td>26.000000</td>\n",
       "    </tr>\n",
       "    <tr>\n",
       "      <th>4</th>\n",
       "      <td>1</td>\n",
       "      <td>Female</td>\n",
       "      <td>Alabama</td>\n",
       "      <td>South</td>\n",
       "      <td>3</td>\n",
       "      <td>married</td>\n",
       "      <td>adult</td>\n",
       "      <td>5</td>\n",
       "      <td>4</td>\n",
       "      <td>15</td>\n",
       "      <td>New customer</td>\n",
       "      <td>Non-frequent customer</td>\n",
       "      <td>has dependants</td>\n",
       "      <td>low-income</td>\n",
       "      <td>Low spender</td>\n",
       "      <td>56.996094</td>\n",
       "    </tr>\n",
       "  </tbody>\n",
       "</table>\n",
       "</div>"
      ],
      "text/plain": [
       "   user_id  gender    state region  n_dependants marital_status age_group  \\\n",
       "0        1  Female  Alabama  South             3        married     adult   \n",
       "1        1  Female  Alabama  South             3        married     adult   \n",
       "2        1  Female  Alabama  South             3        married     adult   \n",
       "3        1  Female  Alabama  South             3        married     adult   \n",
       "4        1  Female  Alabama  South             3        married     adult   \n",
       "\n",
       "   order_count  order_dow  order_hour_of_day  loyalty_flag  \\\n",
       "0            1          2                  8  New customer   \n",
       "1            2          3                  7  New customer   \n",
       "2            3          3                 12  New customer   \n",
       "3            4          4                  7  New customer   \n",
       "4            5          4                 15  New customer   \n",
       "\n",
       "    order_frequency_flag dependants_flag income_group spending_flag     prices  \n",
       "0  Non-frequent customer  has dependants   low-income   Low spender  31.597656  \n",
       "1  Non-frequent customer  has dependants   low-income   Low spender  35.394531  \n",
       "2  Non-frequent customer  has dependants   low-income   Low spender  28.199219  \n",
       "3  Non-frequent customer  has dependants   low-income   Low spender  26.000000  \n",
       "4  Non-frequent customer  has dependants   low-income   Low spender  56.996094  "
      ]
     },
     "execution_count": 265,
     "metadata": {},
     "output_type": "execute_result"
    }
   ],
   "source": [
    "customer_profile.head()"
   ]
  },
  {
   "cell_type": "code",
   "execution_count": 269,
   "id": "3c254f4a-b92b-46b0-a024-59dffa7f7e22",
   "metadata": {},
   "outputs": [],
   "source": [
    "# Aggregate variables for customer profiles for expenditure\n",
    "customer_agg = customer_profile.groupby('user_id').agg({'order_count': ['max', 'min', 'mean'], 'prices': ['max', 'min', 'mean']})"
   ]
  },
  {
   "cell_type": "code",
   "execution_count": 271,
   "id": "cad64570-9202-40d1-8a85-6c32f346cd78",
   "metadata": {},
   "outputs": [
    {
     "data": {
      "text/html": [
       "<div>\n",
       "<style scoped>\n",
       "    .dataframe tbody tr th:only-of-type {\n",
       "        vertical-align: middle;\n",
       "    }\n",
       "\n",
       "    .dataframe tbody tr th {\n",
       "        vertical-align: top;\n",
       "    }\n",
       "\n",
       "    .dataframe thead tr th {\n",
       "        text-align: left;\n",
       "    }\n",
       "\n",
       "    .dataframe thead tr:last-of-type th {\n",
       "        text-align: right;\n",
       "    }\n",
       "</style>\n",
       "<table border=\"1\" class=\"dataframe\">\n",
       "  <thead>\n",
       "    <tr>\n",
       "      <th></th>\n",
       "      <th colspan=\"3\" halign=\"left\">order_count</th>\n",
       "      <th colspan=\"3\" halign=\"left\">prices</th>\n",
       "    </tr>\n",
       "    <tr>\n",
       "      <th></th>\n",
       "      <th>max</th>\n",
       "      <th>min</th>\n",
       "      <th>mean</th>\n",
       "      <th>max</th>\n",
       "      <th>min</th>\n",
       "      <th>mean</th>\n",
       "    </tr>\n",
       "    <tr>\n",
       "      <th>user_id</th>\n",
       "      <th></th>\n",
       "      <th></th>\n",
       "      <th></th>\n",
       "      <th></th>\n",
       "      <th></th>\n",
       "      <th></th>\n",
       "    </tr>\n",
       "  </thead>\n",
       "  <tbody>\n",
       "    <tr>\n",
       "      <th>1</th>\n",
       "      <td>10</td>\n",
       "      <td>1</td>\n",
       "      <td>5.5</td>\n",
       "      <td>63.100586</td>\n",
       "      <td>25.000000</td>\n",
       "      <td>37.568459</td>\n",
       "    </tr>\n",
       "    <tr>\n",
       "      <th>2</th>\n",
       "      <td>14</td>\n",
       "      <td>1</td>\n",
       "      <td>7.5</td>\n",
       "      <td>213.097656</td>\n",
       "      <td>19.000977</td>\n",
       "      <td>104.683311</td>\n",
       "    </tr>\n",
       "    <tr>\n",
       "      <th>3</th>\n",
       "      <td>12</td>\n",
       "      <td>1</td>\n",
       "      <td>6.5</td>\n",
       "      <td>107.195312</td>\n",
       "      <td>30.698242</td>\n",
       "      <td>60.115479</td>\n",
       "    </tr>\n",
       "    <tr>\n",
       "      <th>4</th>\n",
       "      <td>5</td>\n",
       "      <td>1</td>\n",
       "      <td>3.0</td>\n",
       "      <td>63.404297</td>\n",
       "      <td>10.796875</td>\n",
       "      <td>29.539062</td>\n",
       "    </tr>\n",
       "    <tr>\n",
       "      <th>7</th>\n",
       "      <td>20</td>\n",
       "      <td>1</td>\n",
       "      <td>10.5</td>\n",
       "      <td>166.698242</td>\n",
       "      <td>6.300781</td>\n",
       "      <td>76.906250</td>\n",
       "    </tr>\n",
       "    <tr>\n",
       "      <th>...</th>\n",
       "      <td>...</td>\n",
       "      <td>...</td>\n",
       "      <td>...</td>\n",
       "      <td>...</td>\n",
       "      <td>...</td>\n",
       "      <td>...</td>\n",
       "    </tr>\n",
       "    <tr>\n",
       "      <th>206203</th>\n",
       "      <td>5</td>\n",
       "      <td>1</td>\n",
       "      <td>3.0</td>\n",
       "      <td>216.286133</td>\n",
       "      <td>126.601562</td>\n",
       "      <td>169.898438</td>\n",
       "    </tr>\n",
       "    <tr>\n",
       "      <th>206206</th>\n",
       "      <td>67</td>\n",
       "      <td>1</td>\n",
       "      <td>34.0</td>\n",
       "      <td>157.302734</td>\n",
       "      <td>9.601562</td>\n",
       "      <td>32.528057</td>\n",
       "    </tr>\n",
       "    <tr>\n",
       "      <th>206207</th>\n",
       "      <td>16</td>\n",
       "      <td>1</td>\n",
       "      <td>8.5</td>\n",
       "      <td>200.792969</td>\n",
       "      <td>42.799805</td>\n",
       "      <td>101.922974</td>\n",
       "    </tr>\n",
       "    <tr>\n",
       "      <th>206208</th>\n",
       "      <td>49</td>\n",
       "      <td>1</td>\n",
       "      <td>25.0</td>\n",
       "      <td>238.487305</td>\n",
       "      <td>38.695312</td>\n",
       "      <td>115.595345</td>\n",
       "    </tr>\n",
       "    <tr>\n",
       "      <th>206209</th>\n",
       "      <td>13</td>\n",
       "      <td>1</td>\n",
       "      <td>7.0</td>\n",
       "      <td>131.489258</td>\n",
       "      <td>11.101562</td>\n",
       "      <td>70.040565</td>\n",
       "    </tr>\n",
       "  </tbody>\n",
       "</table>\n",
       "<p>156301 rows × 6 columns</p>\n",
       "</div>"
      ],
      "text/plain": [
       "        order_count                prices                        \n",
       "                max min  mean         max         min        mean\n",
       "user_id                                                          \n",
       "1                10   1   5.5   63.100586   25.000000   37.568459\n",
       "2                14   1   7.5  213.097656   19.000977  104.683311\n",
       "3                12   1   6.5  107.195312   30.698242   60.115479\n",
       "4                 5   1   3.0   63.404297   10.796875   29.539062\n",
       "7                20   1  10.5  166.698242    6.300781   76.906250\n",
       "...             ...  ..   ...         ...         ...         ...\n",
       "206203            5   1   3.0  216.286133  126.601562  169.898438\n",
       "206206           67   1  34.0  157.302734    9.601562   32.528057\n",
       "206207           16   1   8.5  200.792969   42.799805  101.922974\n",
       "206208           49   1  25.0  238.487305   38.695312  115.595345\n",
       "206209           13   1   7.0  131.489258   11.101562   70.040565\n",
       "\n",
       "[156301 rows x 6 columns]"
      ]
     },
     "execution_count": 271,
     "metadata": {},
     "output_type": "execute_result"
    }
   ],
   "source": [
    "customer_agg"
   ]
  },
  {
   "cell_type": "code",
   "execution_count": 275,
   "id": "118a80a8-e8ea-4cd7-8876-5a09e1eabd48",
   "metadata": {},
   "outputs": [],
   "source": [
    "# Aggregate variables for customer profiles for usage frequency\n",
    "freq_agg = df_excluded.groupby('user_id').agg({'order_count': ['max', 'min', 'mean'], 'days_since_prior_order': ['max', 'min', 'mean']})"
   ]
  },
  {
   "cell_type": "code",
   "execution_count": 277,
   "id": "4ba64860-c570-4e34-bbfc-8875c4682e77",
   "metadata": {},
   "outputs": [
    {
     "data": {
      "text/html": [
       "<div>\n",
       "<style scoped>\n",
       "    .dataframe tbody tr th:only-of-type {\n",
       "        vertical-align: middle;\n",
       "    }\n",
       "\n",
       "    .dataframe tbody tr th {\n",
       "        vertical-align: top;\n",
       "    }\n",
       "\n",
       "    .dataframe thead tr th {\n",
       "        text-align: left;\n",
       "    }\n",
       "\n",
       "    .dataframe thead tr:last-of-type th {\n",
       "        text-align: right;\n",
       "    }\n",
       "</style>\n",
       "<table border=\"1\" class=\"dataframe\">\n",
       "  <thead>\n",
       "    <tr>\n",
       "      <th></th>\n",
       "      <th colspan=\"3\" halign=\"left\">order_count</th>\n",
       "      <th colspan=\"3\" halign=\"left\">days_since_prior_order</th>\n",
       "    </tr>\n",
       "    <tr>\n",
       "      <th></th>\n",
       "      <th>max</th>\n",
       "      <th>min</th>\n",
       "      <th>mean</th>\n",
       "      <th>max</th>\n",
       "      <th>min</th>\n",
       "      <th>mean</th>\n",
       "    </tr>\n",
       "    <tr>\n",
       "      <th>user_id</th>\n",
       "      <th></th>\n",
       "      <th></th>\n",
       "      <th></th>\n",
       "      <th></th>\n",
       "      <th></th>\n",
       "      <th></th>\n",
       "    </tr>\n",
       "  </thead>\n",
       "  <tbody>\n",
       "    <tr>\n",
       "      <th>1</th>\n",
       "      <td>10</td>\n",
       "      <td>1</td>\n",
       "      <td>5.813559</td>\n",
       "      <td>30.0</td>\n",
       "      <td>0.0</td>\n",
       "      <td>20.259260</td>\n",
       "    </tr>\n",
       "    <tr>\n",
       "      <th>2</th>\n",
       "      <td>14</td>\n",
       "      <td>1</td>\n",
       "      <td>8.035897</td>\n",
       "      <td>30.0</td>\n",
       "      <td>3.0</td>\n",
       "      <td>15.967033</td>\n",
       "    </tr>\n",
       "    <tr>\n",
       "      <th>3</th>\n",
       "      <td>12</td>\n",
       "      <td>1</td>\n",
       "      <td>6.000000</td>\n",
       "      <td>21.0</td>\n",
       "      <td>7.0</td>\n",
       "      <td>11.487180</td>\n",
       "    </tr>\n",
       "    <tr>\n",
       "      <th>4</th>\n",
       "      <td>5</td>\n",
       "      <td>1</td>\n",
       "      <td>2.888889</td>\n",
       "      <td>21.0</td>\n",
       "      <td>0.0</td>\n",
       "      <td>15.357142</td>\n",
       "    </tr>\n",
       "    <tr>\n",
       "      <th>7</th>\n",
       "      <td>20</td>\n",
       "      <td>1</td>\n",
       "      <td>9.645631</td>\n",
       "      <td>30.0</td>\n",
       "      <td>2.0</td>\n",
       "      <td>13.546391</td>\n",
       "    </tr>\n",
       "    <tr>\n",
       "      <th>...</th>\n",
       "      <td>...</td>\n",
       "      <td>...</td>\n",
       "      <td>...</td>\n",
       "      <td>...</td>\n",
       "      <td>...</td>\n",
       "      <td>...</td>\n",
       "    </tr>\n",
       "    <tr>\n",
       "      <th>206203</th>\n",
       "      <td>5</td>\n",
       "      <td>1</td>\n",
       "      <td>2.983193</td>\n",
       "      <td>30.0</td>\n",
       "      <td>27.0</td>\n",
       "      <td>29.103092</td>\n",
       "    </tr>\n",
       "    <tr>\n",
       "      <th>206206</th>\n",
       "      <td>67</td>\n",
       "      <td>1</td>\n",
       "      <td>38.007018</td>\n",
       "      <td>15.0</td>\n",
       "      <td>0.0</td>\n",
       "      <td>4.042705</td>\n",
       "    </tr>\n",
       "    <tr>\n",
       "      <th>206207</th>\n",
       "      <td>16</td>\n",
       "      <td>1</td>\n",
       "      <td>8.116592</td>\n",
       "      <td>30.0</td>\n",
       "      <td>1.0</td>\n",
       "      <td>14.879397</td>\n",
       "    </tr>\n",
       "    <tr>\n",
       "      <th>206208</th>\n",
       "      <td>49</td>\n",
       "      <td>1</td>\n",
       "      <td>25.505170</td>\n",
       "      <td>20.0</td>\n",
       "      <td>0.0</td>\n",
       "      <td>7.442105</td>\n",
       "    </tr>\n",
       "    <tr>\n",
       "      <th>206209</th>\n",
       "      <td>13</td>\n",
       "      <td>1</td>\n",
       "      <td>6.937984</td>\n",
       "      <td>30.0</td>\n",
       "      <td>3.0</td>\n",
       "      <td>20.275862</td>\n",
       "    </tr>\n",
       "  </tbody>\n",
       "</table>\n",
       "<p>162631 rows × 6 columns</p>\n",
       "</div>"
      ],
      "text/plain": [
       "        order_count                days_since_prior_order                 \n",
       "                max min       mean                    max   min       mean\n",
       "user_id                                                                   \n",
       "1                10   1   5.813559                   30.0   0.0  20.259260\n",
       "2                14   1   8.035897                   30.0   3.0  15.967033\n",
       "3                12   1   6.000000                   21.0   7.0  11.487180\n",
       "4                 5   1   2.888889                   21.0   0.0  15.357142\n",
       "7                20   1   9.645631                   30.0   2.0  13.546391\n",
       "...             ...  ..        ...                    ...   ...        ...\n",
       "206203            5   1   2.983193                   30.0  27.0  29.103092\n",
       "206206           67   1  38.007018                   15.0   0.0   4.042705\n",
       "206207           16   1   8.116592                   30.0   1.0  14.879397\n",
       "206208           49   1  25.505170                   20.0   0.0   7.442105\n",
       "206209           13   1   6.937984                   30.0   3.0  20.275862\n",
       "\n",
       "[162631 rows x 6 columns]"
      ]
     },
     "execution_count": 277,
     "metadata": {},
     "output_type": "execute_result"
    }
   ],
   "source": [
    "freq_agg"
   ]
  },
  {
   "cell_type": "markdown",
   "id": "b8c62df2-d13c-4087-91e9-bbd6069b0982",
   "metadata": {},
   "source": [
    "8. Compare customer profiles with regions and departments"
   ]
  },
  {
   "cell_type": "markdown",
   "id": "098e505a-c0a2-4c37-8ea5-f9534bc4a815",
   "metadata": {},
   "source": [
    "Region vs Departmant"
   ]
  },
  {
   "cell_type": "code",
   "execution_count": 281,
   "id": "cdf72d1a-22e6-4044-b144-6fa40560f280",
   "metadata": {},
   "outputs": [
    {
     "data": {
      "text/html": [
       "<div>\n",
       "<style scoped>\n",
       "    .dataframe tbody tr th:only-of-type {\n",
       "        vertical-align: middle;\n",
       "    }\n",
       "\n",
       "    .dataframe tbody tr th {\n",
       "        vertical-align: top;\n",
       "    }\n",
       "\n",
       "    .dataframe thead th {\n",
       "        text-align: right;\n",
       "    }\n",
       "</style>\n",
       "<table border=\"1\" class=\"dataframe\">\n",
       "  <thead>\n",
       "    <tr style=\"text-align: right;\">\n",
       "      <th>department</th>\n",
       "      <th>alcohol</th>\n",
       "      <th>babies</th>\n",
       "      <th>bakery</th>\n",
       "      <th>beverages</th>\n",
       "      <th>breakfast</th>\n",
       "      <th>bulk</th>\n",
       "      <th>canned goods</th>\n",
       "      <th>dairy eggs</th>\n",
       "      <th>deli</th>\n",
       "      <th>dry goods pasta</th>\n",
       "      <th>...</th>\n",
       "      <th>household</th>\n",
       "      <th>international</th>\n",
       "      <th>meat seafood</th>\n",
       "      <th>missing</th>\n",
       "      <th>other</th>\n",
       "      <th>pantry</th>\n",
       "      <th>personal care</th>\n",
       "      <th>pets</th>\n",
       "      <th>produce</th>\n",
       "      <th>snacks</th>\n",
       "    </tr>\n",
       "    <tr>\n",
       "      <th>region</th>\n",
       "      <th></th>\n",
       "      <th></th>\n",
       "      <th></th>\n",
       "      <th></th>\n",
       "      <th></th>\n",
       "      <th></th>\n",
       "      <th></th>\n",
       "      <th></th>\n",
       "      <th></th>\n",
       "      <th></th>\n",
       "      <th></th>\n",
       "      <th></th>\n",
       "      <th></th>\n",
       "      <th></th>\n",
       "      <th></th>\n",
       "      <th></th>\n",
       "      <th></th>\n",
       "      <th></th>\n",
       "      <th></th>\n",
       "      <th></th>\n",
       "      <th></th>\n",
       "    </tr>\n",
       "  </thead>\n",
       "  <tbody>\n",
       "    <tr>\n",
       "      <th>Midwest</th>\n",
       "      <td>34043</td>\n",
       "      <td>95741</td>\n",
       "      <td>261753</td>\n",
       "      <td>598979</td>\n",
       "      <td>156155</td>\n",
       "      <td>7929</td>\n",
       "      <td>237459</td>\n",
       "      <td>1212490</td>\n",
       "      <td>234464</td>\n",
       "      <td>193463</td>\n",
       "      <td>...</td>\n",
       "      <td>166992</td>\n",
       "      <td>60666</td>\n",
       "      <td>158260</td>\n",
       "      <td>15563</td>\n",
       "      <td>7983</td>\n",
       "      <td>420334</td>\n",
       "      <td>100398</td>\n",
       "      <td>21358</td>\n",
       "      <td>2134115</td>\n",
       "      <td>645143</td>\n",
       "    </tr>\n",
       "    <tr>\n",
       "      <th>Northeast</th>\n",
       "      <td>20120</td>\n",
       "      <td>56872</td>\n",
       "      <td>155882</td>\n",
       "      <td>364615</td>\n",
       "      <td>92420</td>\n",
       "      <td>4471</td>\n",
       "      <td>137738</td>\n",
       "      <td>711976</td>\n",
       "      <td>139808</td>\n",
       "      <td>111939</td>\n",
       "      <td>...</td>\n",
       "      <td>96810</td>\n",
       "      <td>35265</td>\n",
       "      <td>91595</td>\n",
       "      <td>8970</td>\n",
       "      <td>4926</td>\n",
       "      <td>244582</td>\n",
       "      <td>58664</td>\n",
       "      <td>13150</td>\n",
       "      <td>1239418</td>\n",
       "      <td>384202</td>\n",
       "    </tr>\n",
       "    <tr>\n",
       "      <th>South</th>\n",
       "      <td>48813</td>\n",
       "      <td>139511</td>\n",
       "      <td>371620</td>\n",
       "      <td>859419</td>\n",
       "      <td>223172</td>\n",
       "      <td>11180</td>\n",
       "      <td>337458</td>\n",
       "      <td>1723016</td>\n",
       "      <td>333620</td>\n",
       "      <td>272813</td>\n",
       "      <td>...</td>\n",
       "      <td>230061</td>\n",
       "      <td>84649</td>\n",
       "      <td>224120</td>\n",
       "      <td>21787</td>\n",
       "      <td>11579</td>\n",
       "      <td>591754</td>\n",
       "      <td>142496</td>\n",
       "      <td>29909</td>\n",
       "      <td>3027476</td>\n",
       "      <td>916780</td>\n",
       "    </tr>\n",
       "    <tr>\n",
       "      <th>West</th>\n",
       "      <td>36754</td>\n",
       "      <td>102428</td>\n",
       "      <td>288155</td>\n",
       "      <td>650574</td>\n",
       "      <td>173619</td>\n",
       "      <td>8743</td>\n",
       "      <td>260221</td>\n",
       "      <td>1327060</td>\n",
       "      <td>257352</td>\n",
       "      <td>212043</td>\n",
       "      <td>...</td>\n",
       "      <td>178200</td>\n",
       "      <td>65998</td>\n",
       "      <td>173830</td>\n",
       "      <td>15906</td>\n",
       "      <td>8581</td>\n",
       "      <td>457886</td>\n",
       "      <td>106647</td>\n",
       "      <td>24059</td>\n",
       "      <td>2324678</td>\n",
       "      <td>711329</td>\n",
       "    </tr>\n",
       "    <tr>\n",
       "      <th>NaN</th>\n",
       "      <td>4897</td>\n",
       "      <td>15840</td>\n",
       "      <td>43418</td>\n",
       "      <td>98314</td>\n",
       "      <td>25484</td>\n",
       "      <td>1128</td>\n",
       "      <td>39198</td>\n",
       "      <td>202640</td>\n",
       "      <td>38590</td>\n",
       "      <td>31878</td>\n",
       "      <td>...</td>\n",
       "      <td>27794</td>\n",
       "      <td>9413</td>\n",
       "      <td>26976</td>\n",
       "      <td>2542</td>\n",
       "      <td>1342</td>\n",
       "      <td>68149</td>\n",
       "      <td>16101</td>\n",
       "      <td>4584</td>\n",
       "      <td>353586</td>\n",
       "      <td>108952</td>\n",
       "    </tr>\n",
       "  </tbody>\n",
       "</table>\n",
       "<p>5 rows × 21 columns</p>\n",
       "</div>"
      ],
      "text/plain": [
       "department  alcohol  babies  bakery  beverages  breakfast   bulk  \\\n",
       "region                                                             \n",
       "Midwest       34043   95741  261753     598979     156155   7929   \n",
       "Northeast     20120   56872  155882     364615      92420   4471   \n",
       "South         48813  139511  371620     859419     223172  11180   \n",
       "West          36754  102428  288155     650574     173619   8743   \n",
       "NaN            4897   15840   43418      98314      25484   1128   \n",
       "\n",
       "department  canned goods  dairy eggs    deli  dry goods pasta  ...  household  \\\n",
       "region                                                         ...              \n",
       "Midwest           237459     1212490  234464           193463  ...     166992   \n",
       "Northeast         137738      711976  139808           111939  ...      96810   \n",
       "South             337458     1723016  333620           272813  ...     230061   \n",
       "West              260221     1327060  257352           212043  ...     178200   \n",
       "NaN                39198      202640   38590            31878  ...      27794   \n",
       "\n",
       "department  international  meat seafood  missing  other  pantry  \\\n",
       "region                                                            \n",
       "Midwest             60666        158260    15563   7983  420334   \n",
       "Northeast           35265         91595     8970   4926  244582   \n",
       "South               84649        224120    21787  11579  591754   \n",
       "West                65998        173830    15906   8581  457886   \n",
       "NaN                  9413         26976     2542   1342   68149   \n",
       "\n",
       "department  personal care   pets  produce  snacks  \n",
       "region                                             \n",
       "Midwest            100398  21358  2134115  645143  \n",
       "Northeast           58664  13150  1239418  384202  \n",
       "South              142496  29909  3027476  916780  \n",
       "West               106647  24059  2324678  711329  \n",
       "NaN                 16101   4584   353586  108952  \n",
       "\n",
       "[5 rows x 21 columns]"
      ]
     },
     "execution_count": 281,
     "metadata": {},
     "output_type": "execute_result"
    }
   ],
   "source": [
    "# crosstab age group vs department\n",
    "region_dept_cross = pd.crosstab(df_final_merged['region'], df_final_merged['department'], dropna = False)\n",
    "region_dept_cross"
   ]
  },
  {
   "cell_type": "code",
   "execution_count": 283,
   "id": "cba8279c-5e08-4f64-ba16-3b87b89eabc7",
   "metadata": {},
   "outputs": [
    {
     "data": {
      "text/plain": [
       "<matplotlib.legend.Legend at 0x17210966ff0>"
      ]
     },
     "execution_count": 283,
     "metadata": {},
     "output_type": "execute_result"
    },
    {
     "data": {
      "image/png": "[encoded data removed]",
      "text/plain": [
       "<Figure size 1400x1000 with 1 Axes>"
      ]
     },
     "metadata": {},
     "output_type": "display_data"
    }
   ],
   "source": [
    "# bar chart\n",
    "region_dept_bar = region_dept_cross.plot(kind = 'barh', figsize=(14,10))\n",
    "plt.title('Department Sales by Region')\n",
    "plt.xlabel('products count')\n",
    "plt.ylabel('region')\n",
    "# Move legend outside of plot\n",
    "plt.legend(title='Department', bbox_to_anchor=(1.05, 1), loc='upper left', fontsize=12, title_fontsize=14)"
   ]
  },
  {
   "cell_type": "code",
   "execution_count": 285,
   "id": "222fce7e-2d00-45b1-8fdf-fc2d355bf982",
   "metadata": {},
   "outputs": [],
   "source": [
    "# Export bar chart\n",
    "region_dept_bar.figure.savefig(os.path.join(path, '04 Analysis','Visualizations', 'region_depts_bar.png'))"
   ]
  },
  {
   "cell_type": "code",
   "execution_count": 287,
   "id": "0a5c3e31-20c6-4cdb-989c-faad06331a7d",
   "metadata": {},
   "outputs": [],
   "source": [
    "# import orders_products_customers\n",
    "df = pd.read_pickle(os.path.join(path, '02 Data', 'Prepared Data', 'orders_products_customers_departments.pkl'))"
   ]
  },
  {
   "cell_type": "code",
   "execution_count": 291,
   "id": "1e4b1200-c6c9-44fe-b946-d8d17d49afa5",
   "metadata": {},
   "outputs": [
    {
     "data": {
      "text/plain": [
       "Text(0.5, 0, '')"
      ]
     },
     "execution_count": 291,
     "metadata": {},
     "output_type": "execute_result"
    },
    {
     "data": {
      "image/png": "[encoded data removed]",
      "text/plain": [
       "<Figure size 640x480 with 1 Axes>"
      ]
     },
     "metadata": {},
     "output_type": "display_data"
    }
   ],
   "source": [
    "# bar chart orders by day of week\n",
    "orders_dow_bar = df['order_dow'].value_counts().sort_index().plot.bar(color = 'blue')\n",
    "orders_dow_bar.set_title('Orders by Day of Week')\n",
    "orders_dow_bar.set_xticklabels(['Saturday', 'Sunday', 'Monday', 'Tuesday', 'Wednesday', 'Thursday', 'Friday'], rotation=0)\n",
    "orders_dow_bar.set_xlabel(\"\")"
   ]
  },
  {
   "cell_type": "code",
   "execution_count": 293,
   "id": "4c0f3bfb-b8d1-4ec2-87f0-603e5eaf8e0e",
   "metadata": {},
   "outputs": [],
   "source": [
    "# Export bar chart\n",
    "orders_dow_bar.figure.savefig(os.path.join(path, '04 Analysis','Visualizations', 'orders_dow_bar.png'))"
   ]
  },
  {
   "cell_type": "code",
   "execution_count": 295,
   "id": "28669695-b09b-4eea-b9b1-faf3a37db746",
   "metadata": {},
   "outputs": [
    {
     "data": {
      "text/plain": [
       "Text(0.5, 0, 'Hour of Day (24 hr clock)')"
      ]
     },
     "execution_count": 295,
     "metadata": {},
     "output_type": "execute_result"
    },
    {
     "data": {
      "image/png": "[encoded data removed]",
      "text/plain": [
       "<Figure size 640x480 with 1 Axes>"
      ]
     },
     "metadata": {},
     "output_type": "display_data"
    }
   ],
   "source": [
    "# histogram of hours of the day\n",
    "hod_hist=df['order_hour_of_day'].plot.hist(bins = 24)\n",
    "plt.title('Orders by Hour of Day')\n",
    "plt.xlabel('Hour of Day (24 hr clock)')"
   ]
  },
  {
   "cell_type": "code",
   "execution_count": 297,
   "id": "9fc55f34-adb6-4358-8bc4-b459e03f7158",
   "metadata": {},
   "outputs": [],
   "source": [
    "# Export histogram\n",
    "hod_hist.figure.savefig(os.path.join(path, '04 Analysis','Visualizations', 'hod_hist.png'))"
   ]
  },
  {
   "cell_type": "code",
   "execution_count": 301,
   "id": "6e874d61-1150-4af2-819f-16b133f2ed4e",
   "metadata": {},
   "outputs": [
    {
     "data": {
      "text/html": [
       "<div>\n",
       "<style scoped>\n",
       "    .dataframe tbody tr th:only-of-type {\n",
       "        vertical-align: middle;\n",
       "    }\n",
       "\n",
       "    .dataframe tbody tr th {\n",
       "        vertical-align: top;\n",
       "    }\n",
       "\n",
       "    .dataframe thead th {\n",
       "        text-align: right;\n",
       "    }\n",
       "</style>\n",
       "<table border=\"1\" class=\"dataframe\">\n",
       "  <thead>\n",
       "    <tr style=\"text-align: right;\">\n",
       "      <th>marital_status</th>\n",
       "      <th>divorced/widowed</th>\n",
       "      <th>living with parents and siblings</th>\n",
       "      <th>married</th>\n",
       "      <th>single</th>\n",
       "    </tr>\n",
       "    <tr>\n",
       "      <th>loyalty_flag</th>\n",
       "      <th></th>\n",
       "      <th></th>\n",
       "      <th></th>\n",
       "      <th></th>\n",
       "    </tr>\n",
       "  </thead>\n",
       "  <tbody>\n",
       "    <tr>\n",
       "      <th>Loyal customer</th>\n",
       "      <td>882722</td>\n",
       "      <td>492749</td>\n",
       "      <td>7202500</td>\n",
       "      <td>1706122</td>\n",
       "    </tr>\n",
       "    <tr>\n",
       "      <th>New customer</th>\n",
       "      <td>403781</td>\n",
       "      <td>221779</td>\n",
       "      <td>3380651</td>\n",
       "      <td>797484</td>\n",
       "    </tr>\n",
       "    <tr>\n",
       "      <th>Regular customer</th>\n",
       "      <td>1358768</td>\n",
       "      <td>766644</td>\n",
       "      <td>11160560</td>\n",
       "      <td>2590804</td>\n",
       "    </tr>\n",
       "  </tbody>\n",
       "</table>\n",
       "</div>"
      ],
      "text/plain": [
       "marital_status    divorced/widowed  living with parents and siblings  \\\n",
       "loyalty_flag                                                           \n",
       "Loyal customer              882722                            492749   \n",
       "New customer                403781                            221779   \n",
       "Regular customer           1358768                            766644   \n",
       "\n",
       "marital_status     married   single  \n",
       "loyalty_flag                         \n",
       "Loyal customer     7202500  1706122  \n",
       "New customer       3380651   797484  \n",
       "Regular customer  11160560  2590804  "
      ]
     },
     "execution_count": 301,
     "metadata": {},
     "output_type": "execute_result"
    }
   ],
   "source": [
    "# Crosstab loyalty with family status\n",
    "loyalty_fam_cross = pd.crosstab(df['loyalty_flag'], df['marital_status'], dropna = False)\n",
    "loyalty_fam_cross"
   ]
  },
  {
   "cell_type": "code",
   "execution_count": 303,
   "id": "7559533e-62a1-4fdf-a33f-75c1ba18aef0",
   "metadata": {},
   "outputs": [
    {
     "data": {
      "text/plain": [
       "(array([0, 1, 2]),\n",
       " [Text(0, 0, 'Loyal customer'),\n",
       "  Text(1, 0, 'New customer'),\n",
       "  Text(2, 0, 'Regular customer')])"
      ]
     },
     "execution_count": 303,
     "metadata": {},
     "output_type": "execute_result"
    },
    {
     "data": {
      "image/png": "[encoded data removed]",
      "text/plain": [
       "<Figure size 640x480 with 1 Axes>"
      ]
     },
     "metadata": {},
     "output_type": "display_data"
    }
   ],
   "source": [
    "# bar chart\n",
    "loyalty_fam_bar = loyalty_fam_cross.plot.bar()\n",
    "plt.title('Loyalty by Family Status')\n",
    "plt.xlabel('')\n",
    "plt.ylabel('count')\n",
    "plt.xticks(rotation=0)"
   ]
  },
  {
   "cell_type": "code",
   "execution_count": 305,
   "id": "078df3ee-f6b5-4751-bba0-58086af64299",
   "metadata": {},
   "outputs": [],
   "source": [
    "# Export the chart\n",
    "loyalty_fam_bar.figure.savefig(os.path.join(path, '04 Analysis','Visualizations', 'loyalty_fam_bar.png'))"
   ]
  },
  {
   "cell_type": "code",
   "execution_count": 309,
   "id": "22c0164e-738e-438f-a92e-a3f49b573920",
   "metadata": {},
   "outputs": [
    {
     "data": {
      "text/plain": [
       "marital_status\n",
       "married                             21743711\n",
       "single                               5094410\n",
       "divorced/widowed                     2645271\n",
       "living with parents and siblings     1481172\n",
       "Name: count, dtype: int64"
      ]
     },
     "execution_count": 309,
     "metadata": {},
     "output_type": "execute_result"
    }
   ],
   "source": [
    "# Check value counts\n",
    "fam_status = df['marital_status'].value_counts(dropna = False)\n",
    "fam_status"
   ]
  },
  {
   "cell_type": "code",
   "execution_count": 311,
   "id": "8f04548d-20c3-4e47-9adb-6a28fdb96af3",
   "metadata": {},
   "outputs": [
    {
     "data": {
      "image/png": "[encoded data removed]",
      "text/plain": [
       "<Figure size 640x480 with 1 Axes>"
      ]
     },
     "metadata": {},
     "output_type": "display_data"
    }
   ],
   "source": [
    "# Pie chart showing the distribution of family status\n",
    "fam_status_distribution_pie = fam_status.plot.pie(autopct='%1.1f%%', labels= ['married', 'single', 'divorced/widowed', 'living with parents and siblings'], startangle=90, colors=['#ff9999','#66b3ff','#99ff99','#ffcc99'])\n",
    "plt.ylabel('')  # Hide the y-label\n",
    "plt.title('Distribution of Family Status')\n",
    "plt.show()"
   ]
  },
  {
   "cell_type": "code",
   "execution_count": 313,
   "id": "69288ff9-212b-4f7c-bdbd-788f2bb564ab",
   "metadata": {},
   "outputs": [],
   "source": [
    "# Export the chart\n",
    "fam_status_distribution_pie.figure.savefig(os.path.join(path, '04 Analysis','Visualizations', 'fam_status_bar.png'))"
   ]
  },
  {
   "cell_type": "code",
   "execution_count": null,
   "id": "cd28393d-4d77-4512-9523-9312ba3d51f7",
   "metadata": {},
   "outputs": [],
   "source": []
  }
 ],
 "metadata": {
  "kernelspec": {
   "display_name": "Python [conda env:base] *",
   "language": "python",
   "name": "conda-base-py"
  },
  "language_info": {
   "codemirror_mode": {
    "name": "ipython",
    "version": 3
   },
   "file_extension": ".py",
   "mimetype": "text/x-python",
   "name": "python",
   "nbconvert_exporter": "python",
   "pygments_lexer": "ipython3",
   "version": "3.12.7"
  }
 },
 "nbformat": 4,
 "nbformat_minor": 5
}
